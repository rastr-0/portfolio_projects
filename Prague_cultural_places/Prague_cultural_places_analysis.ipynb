{
 "cells": [
  {
   "attachments": {},
   "cell_type": "markdown",
   "metadata": {},
   "source": [
    "This notebook is connected with story on Medium. If you want to get full understanding what I was trying to do in this notebook, then you can read my story on Medium with datailed comments"
   ]
  },
  {
   "attachments": {},
   "cell_type": "markdown",
   "metadata": {},
   "source": [
    "Link to the Medium post: https://medium.com/@romanmilko123/prague-cultural-places-analysis-a6a6840e4ee6"
   ]
  },
  {
   "cell_type": "code",
   "execution_count": 14,
   "metadata": {},
   "outputs": [],
   "source": [
    "import requests\n",
    "import pandas as pd\n",
    "import plotly.graph_objects as go"
   ]
  },
  {
   "cell_type": "code",
   "execution_count": 15,
   "metadata": {},
   "outputs": [],
   "source": [
    "# get json response, extract all neccesary rows and wirte down to csv file\n",
    "def json_to_csv(url):\n",
    "    response = requests.get(url)\n",
    "    data = response.json()\n",
    "\n",
    "    features = data['features']\n",
    "\n",
    "    rows = []\n",
    "    # \"nazev\" stands for \"name\"\n",
    "    # \"adresa\" stands for \"address\"\n",
    "    for item in features:\n",
    "        names = item['properties']['NAZEV']\n",
    "        area = item['properties']['KATUZE_NAZEV']\n",
    "        addresses = item['properties']['ADRESA']\n",
    "        rows.append({'name' : names, 'area': area, 'address' : addresses})\n",
    "    \n",
    "    # create DataFrame and write data\n",
    "    df = pd.DataFrame(rows)\n",
    "    df.to_csv('C:\\\\Users\\\\rastr\\\\data1.csv', encoding='utf-8-sig', index=False)\n",
    "\n",
    "    return df\n"
   ]
  },
  {
   "cell_type": "code",
   "execution_count": 16,
   "metadata": {},
   "outputs": [
    {
     "name": "stdout",
     "output_type": "stream",
     "text": [
      "<class 'pandas.core.frame.DataFrame'>\n",
      "RangeIndex: 673 entries, 0 to 672\n",
      "Data columns (total 3 columns):\n",
      " #   Column   Non-Null Count  Dtype \n",
      "---  ------   --------------  ----- \n",
      " 0   name     673 non-null    object\n",
      " 1   area     673 non-null    object\n",
      " 2   address  673 non-null    object\n",
      "dtypes: object(3)\n",
      "memory usage: 15.9+ KB\n"
     ]
    }
   ],
   "source": [
    "df = json_to_csv('https://opendata.iprpraha.cz/CUR/FSV/FSV_Kultura_b/S_JTSK/FSV_Kultura_b.json')\n",
    "df.info()"
   ]
  },
  {
   "cell_type": "code",
   "execution_count": 17,
   "metadata": {},
   "outputs": [],
   "source": [
    "import re\n",
    "\n",
    "type_keywords = {\n",
    "    \"Museum\" : ['museum', 'muzeum', 'muzea'],\n",
    "    'Gallery' : ['gallery', 'galerie'],\n",
    "    'Theater' : ['theater', 'divadlo', 'divadelní studio', 'studio'],\n",
    "    'Library' : ['library', 'knihovna'],\n",
    "    'Cinema' : ['concert hall', 'koncertí sál'],\n",
    "    'Zoo' : ['zoo', 'zoologická zahrada'],\n",
    "    'Monument' : ['monument', 'památník'],\n",
    "    'Club' : ['club', 'klub'],\n",
    "    'Bar' : ['bar'],\n",
    "    'Cafe' : ['cafe', 'café'],\n",
    "    'Cinema' : ['cinema', 'kino'],\n",
    "    'Synagoga' : ['synagoga'],\n",
    "    'Arena' : ['arena'],\n",
    "    'Opera' : ['opera'],\n",
    "    \n",
    "}\n",
    "\n",
    "def get_type(name):\n",
    "    name = re.sub(r'[^a-zA-Z0-9]', '', name.lower())\n",
    "\n",
    "    for type, keywords in type_keywords.items():\n",
    "        if any(keyword in name for keyword in keywords):\n",
    "            return type\n",
    "    return None"
   ]
  },
  {
   "cell_type": "code",
   "execution_count": 18,
   "metadata": {},
   "outputs": [],
   "source": [
    "# apply get_type function to each place\n",
    "df['type_of_place'] = df['name'].apply(get_type)"
   ]
  },
  {
   "cell_type": "code",
   "execution_count": 19,
   "metadata": {},
   "outputs": [
    {
     "data": {
      "text/plain": [
       "None        222\n",
       "Gallery     143\n",
       "Library      89\n",
       "Theater      86\n",
       "Museum       54\n",
       "Club         28\n",
       "Cinema       25\n",
       "Bar          13\n",
       "Synagoga      5\n",
       "Cafe          4\n",
       "Opera         2\n",
       "Arena         2\n",
       "Name: type_of_place, dtype: int64"
      ]
     },
     "execution_count": 19,
     "metadata": {},
     "output_type": "execute_result"
    }
   ],
   "source": [
    "df['type_of_place'].value_counts(dropna=False)"
   ]
  },
  {
   "cell_type": "code",
   "execution_count": 20,
   "metadata": {},
   "outputs": [],
   "source": [
    "# drop rows with NaN values\n",
    "df.dropna(subset=['type_of_place'], inplace=True)"
   ]
  },
  {
   "cell_type": "code",
   "execution_count": 21,
   "metadata": {},
   "outputs": [],
   "source": [
    "# reset indexes in DataFrame\n",
    "df.reset_index(drop=True, inplace=True)"
   ]
  },
  {
   "cell_type": "code",
   "execution_count": 22,
   "metadata": {},
   "outputs": [
    {
     "data": {
      "text/html": [
       "<div>\n",
       "<style scoped>\n",
       "    .dataframe tbody tr th:only-of-type {\n",
       "        vertical-align: middle;\n",
       "    }\n",
       "\n",
       "    .dataframe tbody tr th {\n",
       "        vertical-align: top;\n",
       "    }\n",
       "\n",
       "    .dataframe thead th {\n",
       "        text-align: right;\n",
       "    }\n",
       "</style>\n",
       "<table border=\"1\" class=\"dataframe\">\n",
       "  <thead>\n",
       "    <tr style=\"text-align: right;\">\n",
       "      <th></th>\n",
       "      <th>name</th>\n",
       "      <th>area</th>\n",
       "      <th>address</th>\n",
       "      <th>type_of_place</th>\n",
       "    </tr>\n",
       "  </thead>\n",
       "  <tbody>\n",
       "    <tr>\n",
       "      <th>0</th>\n",
       "      <td>Divadlo DISK</td>\n",
       "      <td>Staré Město</td>\n",
       "      <td>Karlova 223/26</td>\n",
       "      <td>Theater</td>\n",
       "    </tr>\n",
       "    <tr>\n",
       "      <th>1</th>\n",
       "      <td>Divadlo U22</td>\n",
       "      <td>Uhříněves</td>\n",
       "      <td>K sokolovně 201/8</td>\n",
       "      <td>Theater</td>\n",
       "    </tr>\n",
       "    <tr>\n",
       "      <th>2</th>\n",
       "      <td>Divadlo Na Cikorce</td>\n",
       "      <td>Modřany</td>\n",
       "      <td>Herrmannova 2016/24</td>\n",
       "      <td>Theater</td>\n",
       "    </tr>\n",
       "    <tr>\n",
       "      <th>3</th>\n",
       "      <td>Divadlo Ty-já-tr</td>\n",
       "      <td>Holešovice</td>\n",
       "      <td>Pplk. Sochora 1387/9</td>\n",
       "      <td>Theater</td>\n",
       "    </tr>\n",
       "    <tr>\n",
       "      <th>4</th>\n",
       "      <td>Divadlo Inspirace - scénický ateliér HAMU</td>\n",
       "      <td>Malá Strana</td>\n",
       "      <td>Malostranské náměstí 258/13</td>\n",
       "      <td>Theater</td>\n",
       "    </tr>\n",
       "    <tr>\n",
       "      <th>...</th>\n",
       "      <td>...</td>\n",
       "      <td>...</td>\n",
       "      <td>...</td>\n",
       "      <td>...</td>\n",
       "    </tr>\n",
       "    <tr>\n",
       "      <th>446</th>\n",
       "      <td>Městská knihovna v Praze - pobočka Korunní</td>\n",
       "      <td>Vinohrady</td>\n",
       "      <td>Korunní 2160/68</td>\n",
       "      <td>Library</td>\n",
       "    </tr>\n",
       "    <tr>\n",
       "      <th>447</th>\n",
       "      <td>Městská knihovna v Praze - pobočka Krč</td>\n",
       "      <td>Krč</td>\n",
       "      <td>Štúrova 1282/12</td>\n",
       "      <td>Library</td>\n",
       "    </tr>\n",
       "    <tr>\n",
       "      <th>448</th>\n",
       "      <td>Městská knihovna v Praze - pobočka Ládví</td>\n",
       "      <td>Kobylisy</td>\n",
       "      <td>Burešova 1661/2</td>\n",
       "      <td>Library</td>\n",
       "    </tr>\n",
       "    <tr>\n",
       "      <th>449</th>\n",
       "      <td>Městská knihovna v Praze - pobočka Lužiny</td>\n",
       "      <td>Stodůlky</td>\n",
       "      <td>Archeologická 2256/1</td>\n",
       "      <td>Library</td>\n",
       "    </tr>\n",
       "    <tr>\n",
       "      <th>450</th>\n",
       "      <td>Městská knihovna v Praze - pobočka Michle</td>\n",
       "      <td>Michle</td>\n",
       "      <td>Michelská 7/1</td>\n",
       "      <td>Library</td>\n",
       "    </tr>\n",
       "  </tbody>\n",
       "</table>\n",
       "<p>451 rows × 4 columns</p>\n",
       "</div>"
      ],
      "text/plain": [
       "                                           name         area  \\\n",
       "0                                  Divadlo DISK  Staré Město   \n",
       "1                                   Divadlo U22    Uhříněves   \n",
       "2                            Divadlo Na Cikorce      Modřany   \n",
       "3                              Divadlo Ty-já-tr   Holešovice   \n",
       "4     Divadlo Inspirace - scénický ateliér HAMU  Malá Strana   \n",
       "..                                          ...          ...   \n",
       "446  Městská knihovna v Praze - pobočka Korunní    Vinohrady   \n",
       "447      Městská knihovna v Praze - pobočka Krč          Krč   \n",
       "448    Městská knihovna v Praze - pobočka Ládví     Kobylisy   \n",
       "449   Městská knihovna v Praze - pobočka Lužiny     Stodůlky   \n",
       "450   Městská knihovna v Praze - pobočka Michle       Michle   \n",
       "\n",
       "                         address type_of_place  \n",
       "0                 Karlova 223/26       Theater  \n",
       "1              K sokolovně 201/8       Theater  \n",
       "2            Herrmannova 2016/24       Theater  \n",
       "3           Pplk. Sochora 1387/9       Theater  \n",
       "4    Malostranské náměstí 258/13       Theater  \n",
       "..                           ...           ...  \n",
       "446              Korunní 2160/68       Library  \n",
       "447              Štúrova 1282/12       Library  \n",
       "448              Burešova 1661/2       Library  \n",
       "449         Archeologická 2256/1       Library  \n",
       "450                Michelská 7/1       Library  \n",
       "\n",
       "[451 rows x 4 columns]"
      ]
     },
     "execution_count": 22,
     "metadata": {},
     "output_type": "execute_result"
    }
   ],
   "source": [
    "#pd.set_option('display.max_rows', 30)\n",
    "#pd.set_option('display.max_columns', 30)\n",
    "df"
   ]
  },
  {
   "cell_type": "code",
   "execution_count": 23,
   "metadata": {},
   "outputs": [],
   "source": [
    "# be ready that execution of this part of code can take quite long\n",
    "from geopy.geocoders import Nominatim\n",
    "geolocator = Nominatim(user_agent='cultural_places_Prague')\n",
    "\n",
    "def get_latitude_longtitude(address):\n",
    "    location = geolocator.geocode(address)\n",
    "    if location is not None:\n",
    "        return (location.latitude, location.longitude)\n",
    "    else:\n",
    "        return (None, None)\n",
    "\n",
    "# get latitudes and longtitudes based on addresses\n",
    "df['latitude'], df['longtitude'] = zip(*df['address'].apply(get_latitude_longtitude))\n",
    "\n",
    "# drop all NaN values\n",
    "df.dropna(inplace=True)"
   ]
  },
  {
   "cell_type": "code",
   "execution_count": 24,
   "metadata": {},
   "outputs": [
    {
     "data": {
      "text/plain": [
       "['Gallery',\n",
       " 'Library',\n",
       " 'Theater',\n",
       " 'Museum',\n",
       " 'Club',\n",
       " 'Cinema',\n",
       " 'Bar',\n",
       " 'Synagoga',\n",
       " 'Cafe',\n",
       " 'Opera',\n",
       " 'Arena']"
      ]
     },
     "execution_count": 24,
     "metadata": {},
     "output_type": "execute_result"
    }
   ],
   "source": [
    "# get cattegories and convert to list\n",
    "labels = df['type_of_place'].value_counts().index[::].tolist()\n",
    "labels"
   ]
  },
  {
   "cell_type": "code",
   "execution_count": 25,
   "metadata": {},
   "outputs": [
    {
     "data": {
      "application/vnd.plotly.v1+json": {
       "config": {
        "plotlyServerURL": "https://plot.ly"
       },
       "data": [
        {
         "domain": {
          "x": [
           0.1,
           1
          ],
          "y": [
           0.1,
           1
          ]
         },
         "hole": 0.2,
         "labels": [
          "Gallery",
          "Library",
          "Theater",
          "Museum",
          "Club",
          "Cinema",
          "Bar",
          "Synagoga",
          "Cafe",
          "Opera",
          "Arena"
         ],
         "type": "pie",
         "values": [
          141,
          88,
          85,
          52,
          27,
          25,
          13,
          5,
          4,
          2,
          2
         ]
        }
       ],
       "layout": {
        "template": {
         "data": {
          "bar": [
           {
            "error_x": {
             "color": "#2a3f5f"
            },
            "error_y": {
             "color": "#2a3f5f"
            },
            "marker": {
             "line": {
              "color": "#E5ECF6",
              "width": 0.5
             },
             "pattern": {
              "fillmode": "overlay",
              "size": 10,
              "solidity": 0.2
             }
            },
            "type": "bar"
           }
          ],
          "barpolar": [
           {
            "marker": {
             "line": {
              "color": "#E5ECF6",
              "width": 0.5
             },
             "pattern": {
              "fillmode": "overlay",
              "size": 10,
              "solidity": 0.2
             }
            },
            "type": "barpolar"
           }
          ],
          "carpet": [
           {
            "aaxis": {
             "endlinecolor": "#2a3f5f",
             "gridcolor": "white",
             "linecolor": "white",
             "minorgridcolor": "white",
             "startlinecolor": "#2a3f5f"
            },
            "baxis": {
             "endlinecolor": "#2a3f5f",
             "gridcolor": "white",
             "linecolor": "white",
             "minorgridcolor": "white",
             "startlinecolor": "#2a3f5f"
            },
            "type": "carpet"
           }
          ],
          "choropleth": [
           {
            "colorbar": {
             "outlinewidth": 0,
             "ticks": ""
            },
            "type": "choropleth"
           }
          ],
          "contour": [
           {
            "colorbar": {
             "outlinewidth": 0,
             "ticks": ""
            },
            "colorscale": [
             [
              0,
              "#0d0887"
             ],
             [
              0.1111111111111111,
              "#46039f"
             ],
             [
              0.2222222222222222,
              "#7201a8"
             ],
             [
              0.3333333333333333,
              "#9c179e"
             ],
             [
              0.4444444444444444,
              "#bd3786"
             ],
             [
              0.5555555555555556,
              "#d8576b"
             ],
             [
              0.6666666666666666,
              "#ed7953"
             ],
             [
              0.7777777777777778,
              "#fb9f3a"
             ],
             [
              0.8888888888888888,
              "#fdca26"
             ],
             [
              1,
              "#f0f921"
             ]
            ],
            "type": "contour"
           }
          ],
          "contourcarpet": [
           {
            "colorbar": {
             "outlinewidth": 0,
             "ticks": ""
            },
            "type": "contourcarpet"
           }
          ],
          "heatmap": [
           {
            "colorbar": {
             "outlinewidth": 0,
             "ticks": ""
            },
            "colorscale": [
             [
              0,
              "#0d0887"
             ],
             [
              0.1111111111111111,
              "#46039f"
             ],
             [
              0.2222222222222222,
              "#7201a8"
             ],
             [
              0.3333333333333333,
              "#9c179e"
             ],
             [
              0.4444444444444444,
              "#bd3786"
             ],
             [
              0.5555555555555556,
              "#d8576b"
             ],
             [
              0.6666666666666666,
              "#ed7953"
             ],
             [
              0.7777777777777778,
              "#fb9f3a"
             ],
             [
              0.8888888888888888,
              "#fdca26"
             ],
             [
              1,
              "#f0f921"
             ]
            ],
            "type": "heatmap"
           }
          ],
          "heatmapgl": [
           {
            "colorbar": {
             "outlinewidth": 0,
             "ticks": ""
            },
            "colorscale": [
             [
              0,
              "#0d0887"
             ],
             [
              0.1111111111111111,
              "#46039f"
             ],
             [
              0.2222222222222222,
              "#7201a8"
             ],
             [
              0.3333333333333333,
              "#9c179e"
             ],
             [
              0.4444444444444444,
              "#bd3786"
             ],
             [
              0.5555555555555556,
              "#d8576b"
             ],
             [
              0.6666666666666666,
              "#ed7953"
             ],
             [
              0.7777777777777778,
              "#fb9f3a"
             ],
             [
              0.8888888888888888,
              "#fdca26"
             ],
             [
              1,
              "#f0f921"
             ]
            ],
            "type": "heatmapgl"
           }
          ],
          "histogram": [
           {
            "marker": {
             "pattern": {
              "fillmode": "overlay",
              "size": 10,
              "solidity": 0.2
             }
            },
            "type": "histogram"
           }
          ],
          "histogram2d": [
           {
            "colorbar": {
             "outlinewidth": 0,
             "ticks": ""
            },
            "colorscale": [
             [
              0,
              "#0d0887"
             ],
             [
              0.1111111111111111,
              "#46039f"
             ],
             [
              0.2222222222222222,
              "#7201a8"
             ],
             [
              0.3333333333333333,
              "#9c179e"
             ],
             [
              0.4444444444444444,
              "#bd3786"
             ],
             [
              0.5555555555555556,
              "#d8576b"
             ],
             [
              0.6666666666666666,
              "#ed7953"
             ],
             [
              0.7777777777777778,
              "#fb9f3a"
             ],
             [
              0.8888888888888888,
              "#fdca26"
             ],
             [
              1,
              "#f0f921"
             ]
            ],
            "type": "histogram2d"
           }
          ],
          "histogram2dcontour": [
           {
            "colorbar": {
             "outlinewidth": 0,
             "ticks": ""
            },
            "colorscale": [
             [
              0,
              "#0d0887"
             ],
             [
              0.1111111111111111,
              "#46039f"
             ],
             [
              0.2222222222222222,
              "#7201a8"
             ],
             [
              0.3333333333333333,
              "#9c179e"
             ],
             [
              0.4444444444444444,
              "#bd3786"
             ],
             [
              0.5555555555555556,
              "#d8576b"
             ],
             [
              0.6666666666666666,
              "#ed7953"
             ],
             [
              0.7777777777777778,
              "#fb9f3a"
             ],
             [
              0.8888888888888888,
              "#fdca26"
             ],
             [
              1,
              "#f0f921"
             ]
            ],
            "type": "histogram2dcontour"
           }
          ],
          "mesh3d": [
           {
            "colorbar": {
             "outlinewidth": 0,
             "ticks": ""
            },
            "type": "mesh3d"
           }
          ],
          "parcoords": [
           {
            "line": {
             "colorbar": {
              "outlinewidth": 0,
              "ticks": ""
             }
            },
            "type": "parcoords"
           }
          ],
          "pie": [
           {
            "automargin": true,
            "type": "pie"
           }
          ],
          "scatter": [
           {
            "fillpattern": {
             "fillmode": "overlay",
             "size": 10,
             "solidity": 0.2
            },
            "type": "scatter"
           }
          ],
          "scatter3d": [
           {
            "line": {
             "colorbar": {
              "outlinewidth": 0,
              "ticks": ""
             }
            },
            "marker": {
             "colorbar": {
              "outlinewidth": 0,
              "ticks": ""
             }
            },
            "type": "scatter3d"
           }
          ],
          "scattercarpet": [
           {
            "marker": {
             "colorbar": {
              "outlinewidth": 0,
              "ticks": ""
             }
            },
            "type": "scattercarpet"
           }
          ],
          "scattergeo": [
           {
            "marker": {
             "colorbar": {
              "outlinewidth": 0,
              "ticks": ""
             }
            },
            "type": "scattergeo"
           }
          ],
          "scattergl": [
           {
            "marker": {
             "colorbar": {
              "outlinewidth": 0,
              "ticks": ""
             }
            },
            "type": "scattergl"
           }
          ],
          "scattermapbox": [
           {
            "marker": {
             "colorbar": {
              "outlinewidth": 0,
              "ticks": ""
             }
            },
            "type": "scattermapbox"
           }
          ],
          "scatterpolar": [
           {
            "marker": {
             "colorbar": {
              "outlinewidth": 0,
              "ticks": ""
             }
            },
            "type": "scatterpolar"
           }
          ],
          "scatterpolargl": [
           {
            "marker": {
             "colorbar": {
              "outlinewidth": 0,
              "ticks": ""
             }
            },
            "type": "scatterpolargl"
           }
          ],
          "scatterternary": [
           {
            "marker": {
             "colorbar": {
              "outlinewidth": 0,
              "ticks": ""
             }
            },
            "type": "scatterternary"
           }
          ],
          "surface": [
           {
            "colorbar": {
             "outlinewidth": 0,
             "ticks": ""
            },
            "colorscale": [
             [
              0,
              "#0d0887"
             ],
             [
              0.1111111111111111,
              "#46039f"
             ],
             [
              0.2222222222222222,
              "#7201a8"
             ],
             [
              0.3333333333333333,
              "#9c179e"
             ],
             [
              0.4444444444444444,
              "#bd3786"
             ],
             [
              0.5555555555555556,
              "#d8576b"
             ],
             [
              0.6666666666666666,
              "#ed7953"
             ],
             [
              0.7777777777777778,
              "#fb9f3a"
             ],
             [
              0.8888888888888888,
              "#fdca26"
             ],
             [
              1,
              "#f0f921"
             ]
            ],
            "type": "surface"
           }
          ],
          "table": [
           {
            "cells": {
             "fill": {
              "color": "#EBF0F8"
             },
             "line": {
              "color": "white"
             }
            },
            "header": {
             "fill": {
              "color": "#C8D4E3"
             },
             "line": {
              "color": "white"
             }
            },
            "type": "table"
           }
          ]
         },
         "layout": {
          "annotationdefaults": {
           "arrowcolor": "#2a3f5f",
           "arrowhead": 0,
           "arrowwidth": 1
          },
          "autotypenumbers": "strict",
          "coloraxis": {
           "colorbar": {
            "outlinewidth": 0,
            "ticks": ""
           }
          },
          "colorscale": {
           "diverging": [
            [
             0,
             "#8e0152"
            ],
            [
             0.1,
             "#c51b7d"
            ],
            [
             0.2,
             "#de77ae"
            ],
            [
             0.3,
             "#f1b6da"
            ],
            [
             0.4,
             "#fde0ef"
            ],
            [
             0.5,
             "#f7f7f7"
            ],
            [
             0.6,
             "#e6f5d0"
            ],
            [
             0.7,
             "#b8e186"
            ],
            [
             0.8,
             "#7fbc41"
            ],
            [
             0.9,
             "#4d9221"
            ],
            [
             1,
             "#276419"
            ]
           ],
           "sequential": [
            [
             0,
             "#0d0887"
            ],
            [
             0.1111111111111111,
             "#46039f"
            ],
            [
             0.2222222222222222,
             "#7201a8"
            ],
            [
             0.3333333333333333,
             "#9c179e"
            ],
            [
             0.4444444444444444,
             "#bd3786"
            ],
            [
             0.5555555555555556,
             "#d8576b"
            ],
            [
             0.6666666666666666,
             "#ed7953"
            ],
            [
             0.7777777777777778,
             "#fb9f3a"
            ],
            [
             0.8888888888888888,
             "#fdca26"
            ],
            [
             1,
             "#f0f921"
            ]
           ],
           "sequentialminus": [
            [
             0,
             "#0d0887"
            ],
            [
             0.1111111111111111,
             "#46039f"
            ],
            [
             0.2222222222222222,
             "#7201a8"
            ],
            [
             0.3333333333333333,
             "#9c179e"
            ],
            [
             0.4444444444444444,
             "#bd3786"
            ],
            [
             0.5555555555555556,
             "#d8576b"
            ],
            [
             0.6666666666666666,
             "#ed7953"
            ],
            [
             0.7777777777777778,
             "#fb9f3a"
            ],
            [
             0.8888888888888888,
             "#fdca26"
            ],
            [
             1,
             "#f0f921"
            ]
           ]
          },
          "colorway": [
           "#636efa",
           "#EF553B",
           "#00cc96",
           "#ab63fa",
           "#FFA15A",
           "#19d3f3",
           "#FF6692",
           "#B6E880",
           "#FF97FF",
           "#FECB52"
          ],
          "font": {
           "color": "#2a3f5f"
          },
          "geo": {
           "bgcolor": "white",
           "lakecolor": "white",
           "landcolor": "#E5ECF6",
           "showlakes": true,
           "showland": true,
           "subunitcolor": "white"
          },
          "hoverlabel": {
           "align": "left"
          },
          "hovermode": "closest",
          "mapbox": {
           "style": "light"
          },
          "paper_bgcolor": "white",
          "plot_bgcolor": "#E5ECF6",
          "polar": {
           "angularaxis": {
            "gridcolor": "white",
            "linecolor": "white",
            "ticks": ""
           },
           "bgcolor": "#E5ECF6",
           "radialaxis": {
            "gridcolor": "white",
            "linecolor": "white",
            "ticks": ""
           }
          },
          "scene": {
           "xaxis": {
            "backgroundcolor": "#E5ECF6",
            "gridcolor": "white",
            "gridwidth": 2,
            "linecolor": "white",
            "showbackground": true,
            "ticks": "",
            "zerolinecolor": "white"
           },
           "yaxis": {
            "backgroundcolor": "#E5ECF6",
            "gridcolor": "white",
            "gridwidth": 2,
            "linecolor": "white",
            "showbackground": true,
            "ticks": "",
            "zerolinecolor": "white"
           },
           "zaxis": {
            "backgroundcolor": "#E5ECF6",
            "gridcolor": "white",
            "gridwidth": 2,
            "linecolor": "white",
            "showbackground": true,
            "ticks": "",
            "zerolinecolor": "white"
           }
          },
          "shapedefaults": {
           "line": {
            "color": "#2a3f5f"
           }
          },
          "ternary": {
           "aaxis": {
            "gridcolor": "white",
            "linecolor": "white",
            "ticks": ""
           },
           "baxis": {
            "gridcolor": "white",
            "linecolor": "white",
            "ticks": ""
           },
           "bgcolor": "#E5ECF6",
           "caxis": {
            "gridcolor": "white",
            "linecolor": "white",
            "ticks": ""
           }
          },
          "title": {
           "x": 0.05
          },
          "xaxis": {
           "automargin": true,
           "gridcolor": "white",
           "linecolor": "white",
           "ticks": "",
           "title": {
            "standoff": 15
           },
           "zerolinecolor": "white",
           "zerolinewidth": 2
          },
          "yaxis": {
           "automargin": true,
           "gridcolor": "white",
           "linecolor": "white",
           "ticks": "",
           "title": {
            "standoff": 15
           },
           "zerolinecolor": "white",
           "zerolinewidth": 2
          }
         }
        }
       }
      }
     },
     "metadata": {},
     "output_type": "display_data"
    }
   ],
   "source": [
    "# create a trace for the plot\n",
    "trace = go.Pie(labels=df['type_of_place'].value_counts().index[::].tolist(), values=df['type_of_place'].value_counts(), \n",
    "                        domain={'x' : [0.1, 1.0], 'y' : [0.1, 1.0]}, hole=.2)\n",
    "\n",
    "# create Figure with given trace\n",
    "fig = go.Figure(data=[trace])\n",
    "\n",
    "# show Figure\n",
    "fig.show()"
   ]
  },
  {
   "cell_type": "code",
   "execution_count": 36,
   "metadata": {},
   "outputs": [
    {
     "data": {
      "application/vnd.plotly.v1+json": {
       "config": {
        "plotlyServerURL": "https://plot.ly"
       },
       "data": [
        {
         "lat": [
          50.085939,
          50.0287914,
          50.0118454,
          50.0996778,
          50.0881537,
          50.1038246,
          50.1244899,
          50.080484,
          50.0813911,
          50.0811967,
          50.0806884,
          50.0858216,
          50.0990036,
          50.0858898,
          50.0767304,
          50.0836765,
          50.0912346,
          50.0854874,
          50.0781445,
          50.0851198,
          50.0815744,
          50.0907046,
          50.0902121,
          50.098194,
          50.0830994,
          50.0998743,
          50.0629591,
          50.1036711,
          50.0866222,
          50.0834591,
          50.077771,
          50.0900388,
          50.0834548,
          50.0970195,
          50.0851127,
          50.0671681,
          50.0860705,
          50.0799963,
          50.0843606,
          50.0776148,
          50.0871912,
          50.0843211,
          50.0870093,
          50.0718878,
          50.0805188,
          50.0775019,
          50.1052036,
          50.0815408,
          50.0780095,
          50.09730315,
          50.1014119,
          50.0778382,
          50.0844824,
          50.0637854,
          50.0797311,
          50.0845505,
          50.0823474,
          50.0826619,
          50.0800828,
          50.0680112,
          50.0887714,
          50.0837719,
          50.0874556,
          50.090004199999996,
          50.034635699999995,
          50.0796087,
          50.0793474,
          50.0811104,
          50.0820752,
          50.0830055,
          50.0790099,
          50.080149,
          50.1015228,
          50.0915707,
          50.0808882,
          50.0777049,
          50.087783,
          50.0689249,
          50.0856753,
          50.1040931,
          50.0378936,
          50.0908737,
          50.1082189,
          50.0843183,
          50.0983847,
          50.077963749999995,
          50.0910737,
          50.0815744,
          50.0824786,
          50.0869368,
          50.0907756,
          50.0858577,
          50.0907251,
          50.0904881,
          50.0922426,
          50.0870963,
          50.0866429,
          50.0880498,
          50.0788447,
          50.0820103,
          50.0848288,
          50.0863151,
          50.0662653,
          50.0875956,
          50.085013,
          50.0830619,
          50.1008926,
          50.0781859,
          50.0755185,
          50.0840369,
          50.0845405,
          50.0792761,
          50.0824897,
          50.0854357,
          50.0820103,
          50.0788528,
          50.0322639,
          50.0825926,
          50.0871088,
          50.085031,
          50.0688998,
          50.0571198,
          50.0874484,
          50.0811644,
          50.0904125,
          50.09760825,
          50.0970732,
          50.0788978,
          50.0845143,
          50.0899313,
          50.0329717,
          50.1026788,
          50.0872015,
          50.08993875,
          50.0796644,
          50.0773486,
          50.0905391,
          50.1233526,
          50.0876753,
          50.0358368,
          50.0792709,
          50.1066776,
          50.0813497,
          50.0895078,
          50.0649586,
          50.0824786,
          50.0866032,
          50.0721406,
          50.1070829,
          50.0873724,
          50.0802824,
          50.095454,
          50.0842796,
          50.082262,
          50.0785219,
          50.064578600000004,
          50.0579161,
          50.0830629,
          50.082297,
          50.0764594,
          50.0849998,
          50.0719312,
          50.0813266,
          50.1054678,
          50.0871382,
          50.0814037,
          50.0899272,
          50.0748799,
          50.0736913,
          50.0854357,
          50.0840937,
          50.105520850000005,
          50.076731,
          50.084949,
          50.0798068,
          50.0791287,
          50.0562289,
          50.0882701,
          50.0722616,
          50.1278783,
          50.0886704,
          50.0905688,
          50.0900337,
          50.0892055,
          50.0902008,
          50.0900337,
          50.08882185,
          50.087040099999996,
          50.0846016,
          50.08449605,
          50.0884233,
          50.0839986,
          50.0871329,
          50.0835668,
          50.0869011,
          50.0865112,
          50.087183,
          50.0881763,
          50.0914341,
          50.0620851,
          50.0927528,
          50.0663123,
          50.0986418,
          50.0879764,
          49.9749621,
          50.0723937,
          50.0829977,
          50.0769163,
          50.101215,
          50.0878381,
          50.0752144,
          50.1343964,
          50.0715362,
          50.0794321,
          49.9756538,
          50.1082189,
          50.0810699,
          50.0406873,
          50.087697,
          50.078408,
          50.0907907,
          50.0866881,
          50.0741202,
          50.1025233,
          50.087649,
          50.0923124,
          50.094165,
          50.0911853,
          50.0876259,
          50.0855283,
          50.0729562,
          50.0990046,
          50.071763399999995,
          50.0870579,
          50.089249,
          50.0907046,
          50.0998146,
          50.1058625,
          50.0892168,
          50.0723265,
          50.0929725,
          50.0897389,
          50.0297784,
          50.074627,
          50.0881763,
          50.0898427,
          50.1021527,
          50.0716683,
          50.0895299,
          50.1055724,
          50.082262,
          50.0886503,
          50.0858615,
          50.0982337,
          50.0739455,
          50.0850923,
          50.1104432,
          50.1104432,
          50.0868494,
          50.0868892,
          50.0854874,
          50.0910828,
          50.0868548,
          50.0821045,
          50.0508758,
          50.0841292,
          50.0508758,
          50.0818843,
          50.0745491,
          50.1003876,
          50.0829834,
          50.0867098,
          50.0914763,
          50.0969001,
          50.1118299,
          50.0902121,
          50.0314571,
          50.0968554,
          50.081788,
          50.0287914,
          50.0713601,
          50.0650834,
          50.0371349,
          50.0814313,
          50.100106,
          50.0807322,
          50.0895782,
          50.0815918,
          50.0684928,
          50.0872371,
          50.0860753,
          50.0881113,
          50.080149,
          50.0930854,
          50.0867384,
          50.0788528,
          50.135821050000004,
          50.07221,
          50.0864121,
          50.0541349,
          50.0789527,
          49.9841394,
          50.0876259,
          50.0821618,
          50.1650431,
          50.1520201,
          50.1631607,
          50.1442308,
          50.146604,
          50.0884776,
          50.0595408,
          50.1142381,
          50.095162,
          50.0621641,
          50.0116056,
          50.0026272,
          50.0174013,
          50.0360251,
          50.0302183,
          50.1272754,
          50.0132217,
          50.0730216,
          50.1462237,
          49.9814548,
          50.0735477,
          50.0297784,
          50.1033539,
          50.090396,
          50.0912466,
          50.0848074,
          50.0810699,
          50.0778262,
          50.0832435,
          50.0824522,
          50.085509,
          50.0531797,
          50.0028497,
          50.0136128,
          50.1364083,
          50.0871013,
          50.0769036,
          50.0792052,
          50.0688917,
          50.0736656,
          50.0785635,
          50.032596,
          50.0688917,
          50.0879764,
          50.0841504,
          50.0788129,
          50.0850923,
          50.0901772,
          50.0844913,
          50.0815432,
          50.0678363,
          50.0846581,
          50.0297489,
          50.0788055,
          50.1011311,
          50.0983847,
          50.0990735,
          50.09730315,
          50.1040977,
          50.1159396,
          49.9757892,
          50.0918364,
          50.0650834,
          50.0815316,
          50.0918364,
          50.0789527,
          50.0809588,
          50.0729562,
          50.0731529,
          50.0860113,
          50.1012333,
          50.0116973,
          50.0412419,
          50.0917586,
          50.111258,
          50.0561605,
          50.0718717,
          50.0867596,
          50.0564834,
          50.0683037,
          50.0876259,
          50.093982249999996,
          50.0611588,
          50.0771201,
          50.0191947,
          50.139884,
          49.9757892,
          50.0632621,
          50.0679177,
          50.1036711,
          50.0284819,
          50.1283915,
          50.0844317,
          50.0364846,
          49.9601361,
          50.125207,
          50.1172103,
          50.0057625,
          50.0246838,
          50.0254634,
          50.065738,
          50.068402,
          50.0543318,
          50.08569755,
          50.1229673,
          50.1019795,
          50.073736,
          50.0452249,
          50.0489317,
          50.0795701,
          50.1163316,
          50.1041355,
          50.0918302,
          50.0901772,
          50.0697232,
          50.1047758,
          50.1071854,
          50.1336813,
          50.0763361,
          50.032596,
          50.013802299999995,
          50.0112757,
          50.1031201,
          50.0905028,
          50.0736891,
          50.0722669,
          50.1053762,
          50.0491758,
          50.0880627,
          50.0244883,
          50.1244899,
          50.0751996,
          50.0233828,
          50.1272139,
          50.04407,
          50.0538567
         ],
         "lon": [
          14.4172908,
          14.6058921,
          14.4137081,
          14.4352915,
          14.402084,
          14.4504463,
          14.4558505,
          14.4246249,
          14.4262691,
          14.4134661,
          14.4326706,
          14.4234387,
          14.3988583,
          14.4151005,
          14.4384519,
          14.4144392,
          14.4267504,
          14.4228048,
          14.4236913,
          14.430069162904346,
          14.4152035,
          14.4258612,
          14.4412299,
          14.4254731,
          14.4345511,
          14.4498147,
          14.4229852,
          14.390578573359376,
          14.4198693,
          14.4202259,
          14.4164263,
          14.4343406,
          14.4215525,
          14.3430639,
          14.3574705,
          14.435572,
          14.4316478,
          14.4221842,
          14.4141624,
          14.415925,
          14.4411413,
          14.4487698,
          14.4214738,
          14.4462541,
          14.4169497,
          14.4180791,
          14.447859,
          14.4132435,
          14.4479522,
          14.4345000991649,
          14.4192869,
          14.414931,
          14.4183191,
          14.442272,
          14.4267781,
          14.4149898,
          14.413275,
          14.4480176,
          14.4140417,
          14.4163434,
          14.4206319,
          14.4163366,
          14.4221089,
          14.396357474071507,
          14.498870875083334,
          14.4221119,
          14.4243626,
          14.4484332,
          14.4495955,
          14.4043184,
          14.4356524,
          14.4286266,
          14.4323339,
          14.4314459,
          14.4202839,
          14.4039997,
          14.4176561,
          14.4540362,
          14.4493771,
          14.4511487,
          14.4120565,
          14.4487204,
          14.4432452,
          14.4176998,
          14.4326563,
          14.450348545013753,
          14.4220726,
          14.4152035,
          14.4221329,
          14.4254679,
          14.4356282,
          14.4332139,
          14.4189162,
          14.4240313,
          14.4427432,
          14.4029207,
          14.3900859,
          14.425078725319597,
          14.4143067,
          14.4184962,
          14.4200787,
          14.4197417,
          14.4189154,
          14.4087942,
          14.4251314,
          14.4229808,
          14.417253,
          14.4162952,
          14.4141995,
          14.4176951,
          14.4197313,
          14.4219528,
          14.420311,
          14.4129942,
          14.4184962,
          14.460778,
          14.528201,
          14.4194187,
          14.3888007,
          14.4181595,
          14.4280982,
          14.4205887,
          14.4059057,
          14.4284082,
          14.4052804,
          14.424793727600282,
          14.4232427,
          14.4169761,
          14.4165843,
          14.4163069,
          14.4941935,
          14.4253404,
          14.4062092,
          14.415501368969956,
          14.4256118,
          14.4134089,
          14.4157914,
          14.4516827,
          14.402878,
          14.413835,
          14.4273179,
          14.3931444,
          14.4212742,
          14.4341757,
          14.4391173,
          14.4221329,
          14.4269461,
          14.4372036,
          14.4884404,
          14.4287177,
          14.4220207,
          14.4680068,
          14.4070477,
          14.4183316,
          14.4218795,
          14.435732052992197,
          14.4444913,
          14.4190383,
          14.4056755,
          14.4369316,
          14.4146498,
          14.3888728,
          14.4281902,
          14.4730962,
          14.4428867,
          14.4296173,
          14.4383143,
          14.4292857,
          14.4269308,
          14.4129942,
          14.4159695,
          14.431511758339301,
          14.3988644,
          14.4045368,
          14.431988,
          14.4272495,
          14.4648166,
          14.394677,
          14.424416,
          14.5419336,
          14.4149827,
          14.4208934,
          14.4170236,
          14.4169852,
          14.420987,
          14.4170236,
          14.418867173154027,
          14.423088101732784,
          14.4268414,
          14.42741488954516,
          14.400075,
          14.4084909,
          14.4232402,
          14.3607362,
          14.4073391,
          14.4139273,
          14.3995651,
          14.4305682,
          14.4088892,
          14.4516856,
          14.3528554,
          14.4262091,
          14.4367378,
          14.398623,
          14.3947321,
          14.4597959,
          14.4481653,
          14.4339018,
          14.4287015,
          14.4244427,
          14.4428295,
          14.4196921,
          14.3793176,
          14.422065,
          14.3963856,
          14.4432452,
          14.4257487,
          14.415296503579302,
          14.4534462,
          14.4213617,
          14.426517,
          14.4192437,
          14.4078009,
          14.4371203,
          14.4023543,
          14.4286014,
          14.3897547,
          14.4362741,
          14.41695776053356,
          14.4039048,
          14.414748375105257,
          14.4076759,
          14.376235090622627,
          14.429668,
          14.4224779,
          14.4258612,
          14.4443179,
          14.4357875,
          14.4020001,
          14.4422827,
          14.4434637,
          14.4463528,
          14.31238,
          14.4035885,
          14.4305682,
          14.4216397,
          14.4253885,
          14.4051247,
          14.4278811,
          14.4789551,
          14.4183316,
          14.4237754,
          14.4204766,
          14.4051188,
          14.416113,
          14.4222404,
          14.5120123,
          14.5120123,
          14.4472373,
          14.448202,
          14.4228048,
          14.4427651,
          14.4252407,
          14.4187291,
          14.4082761,
          14.3695736,
          14.4082761,
          14.360662,
          14.4147886,
          14.4310854,
          14.4194297,
          14.4209481,
          14.4274032,
          14.4090165,
          14.5026575,
          14.4412299,
          14.4919538,
          14.6703041,
          14.4225345,
          14.6058921,
          14.4468858,
          14.3017136,
          14.5032932,
          14.5005409,
          14.4255661,
          14.4172737,
          14.4261585,
          14.4046494,
          14.4066287,
          14.4440231,
          14.4553294,
          14.4226069,
          14.4286266,
          14.414915066517857,
          14.4360189,
          14.460778,
          14.502746397176509,
          14.402926312671323,
          14.4273617,
          14.2879109,
          14.4250151,
          14.3563505,
          14.41695776053356,
          14.6174413,
          14.4858677,
          14.521616,
          14.5244802,
          14.4809119,
          14.4460868,
          14.5791581,
          14.5861066,
          14.6070295,
          14.6686683,
          14.6382096,
          14.4833313,
          14.3529695,
          14.6523376,
          14.556372,
          14.3090275,
          14.5741254,
          14.5135483,
          14.5494919,
          14.5793114,
          14.3612237,
          14.4931208,
          14.31238,
          14.4504882,
          14.4718914,
          14.4384558,
          14.4218229,
          14.4257487,
          14.4192378,
          14.4177784,
          14.4200934,
          14.3794519,
          14.5175827,
          14.4050975,
          14.409912,
          14.5105742,
          14.4241893,
          14.4417009,
          14.4305757,
          14.4244876,
          14.4040059,
          14.4346017,
          14.5982944,
          14.4244876,
          14.398623,
          14.4288988,
          14.6451068,
          14.4222404,
          14.4431982,
          14.4316467,
          14.4142369,
          14.4641209,
          14.454119,
          14.3561125,
          14.4515197,
          14.3992064,
          14.4326563,
          14.4328541,
          14.4345000991649,
          14.5745083,
          14.4186283,
          14.3961736,
          14.4447203,
          14.3017136,
          14.4177938,
          14.4447203,
          14.4250151,
          14.4264159,
          14.414748375105257,
          14.4096862,
          14.3385491,
          14.5056823,
          14.3851255,
          14.4375189,
          14.4784854,
          14.5009095,
          14.5079363,
          14.4370417,
          14.4498975,
          14.5398604,
          14.5090883,
          14.41695776053356,
          14.392273210578725,
          14.5310014,
          14.4441508,
          14.3543098,
          14.3786042,
          14.3961736,
          14.2867131,
          14.3648009,
          14.390578573359376,
          14.3681512,
          14.4185879,
          14.3740205,
          14.6352257,
          14.3598926,
          14.3737115,
          14.2979002,
          14.4336628,
          14.4331488,
          14.5190803,
          14.4247861,
          14.4000726,
          14.4381002,
          14.341394648869969,
          14.5003075,
          14.4502403,
          14.4067412,
          14.4916511,
          14.3168266,
          14.4241437,
          14.6218428,
          14.4740144,
          14.4295565,
          14.4431982,
          14.35526,
          14.4936203,
          14.4340633,
          14.5472292,
          14.6589916,
          14.5982944,
          14.604603009476536,
          14.6263058,
          14.5649567,
          14.3097957,
          14.4165306,
          14.4836193,
          14.5372651,
          14.5472662,
          14.3902526,
          14.4919168,
          14.4558505,
          14.4500324,
          14.4516695,
          14.4693512,
          14.3319876,
          14.4535731
         ],
         "marker": {
          "color": [
           "rgb(192, 179, 113)",
           "rgb(192, 179, 113)",
           "rgb(192, 179, 113)",
           "rgb(192, 179, 113)",
           "rgb(192, 179, 113)",
           "rgb(192, 179, 113)",
           "rgb(192, 179, 113)",
           "rgb(192, 179, 113)",
           "rgb(192, 179, 113)",
           "rgb(192, 179, 113)",
           "rgb(41, 67, 10)",
           "rgb(192, 179, 113)",
           "rgb(192, 179, 113)",
           "rgb(192, 179, 113)",
           "rgb(192, 179, 113)",
           "rgb(192, 179, 113)",
           "rgb(192, 179, 113)",
           "rgb(192, 179, 113)",
           "rgb(192, 179, 113)",
           "rgb(192, 179, 113)",
           "rgb(192, 179, 113)",
           "rgb(192, 179, 113)",
           "rgb(192, 179, 113)",
           "rgb(192, 179, 113)",
           "rgb(192, 179, 113)",
           "rgb(41, 67, 10)",
           "rgb(113, 192, 147)",
           "rgb(113, 192, 147)",
           "rgb(153, 113, 192)",
           "rgb(113, 192, 147)",
           "rgb(113, 192, 147)",
           "rgb(113, 192, 147)",
           "rgb(113, 192, 147)",
           "rgb(113, 192, 147)",
           "rgb(113, 192, 147)",
           "rgb(113, 192, 147)",
           "rgb(113, 192, 147)",
           "rgb(113, 192, 147)",
           "rgb(113, 192, 147)",
           "rgb(113, 192, 147)",
           "rgb(113, 192, 147)",
           "rgb(113, 192, 147)",
           "rgb(113, 192, 147)",
           "rgb(153, 113, 192)",
           "rgb(153, 113, 192)",
           "rgb(153, 113, 192)",
           "rgb(113, 192, 192)",
           "rgb(113, 192, 192)",
           "rgb(113, 192, 192)",
           "rgb(113, 192, 147)",
           "rgb(113, 192, 147)",
           "rgb(113, 192, 147)",
           "rgb(113, 192, 147)",
           "rgb(113, 192, 147)",
           "rgb(113, 192, 147)",
           "rgb(113, 192, 147)",
           "rgb(113, 192, 147)",
           "rgb(113, 192, 147)",
           "rgb(113, 192, 147)",
           "rgb(113, 192, 147)",
           "rgb(113, 192, 147)",
           "rgb(113, 192, 147)",
           "rgb(113, 192, 147)",
           "rgb(113, 192, 147)",
           "rgb(113, 192, 147)",
           "rgb(113, 192, 147)",
           "rgb(113, 192, 147)",
           "rgb(113, 192, 147)",
           "rgb(113, 192, 147)",
           "rgb(113, 192, 147)",
           "rgb(113, 192, 147)",
           "rgb(192, 179, 113)",
           "rgb(192, 179, 113)",
           "rgb(192, 179, 113)",
           "rgb(192, 179, 113)",
           "rgb(192, 179, 113)",
           "rgb(192, 179, 113)",
           "rgb(192, 179, 113)",
           "rgb(192, 179, 113)",
           "rgb(192, 179, 113)",
           "rgb(192, 179, 113)",
           "rgb(192, 179, 113)",
           "rgb(113, 192, 192)",
           "rgb(113, 192, 147)",
           "rgb(113, 192, 147)",
           "rgb(113, 192, 147)",
           "rgb(113, 192, 147)",
           "rgb(113, 192, 147)",
           "rgb(113, 192, 147)",
           "rgb(113, 192, 147)",
           "rgb(113, 192, 147)",
           "rgb(113, 192, 147)",
           "rgb(113, 192, 147)",
           "rgb(113, 192, 147)",
           "rgb(113, 192, 147)",
           "rgb(113, 192, 147)",
           "rgb(113, 192, 147)",
           "rgb(113, 192, 147)",
           "rgb(113, 192, 147)",
           "rgb(113, 192, 147)",
           "rgb(113, 192, 147)",
           "rgb(113, 192, 147)",
           "rgb(113, 192, 147)",
           "rgb(113, 192, 147)",
           "rgb(113, 192, 147)",
           "rgb(113, 192, 147)",
           "rgb(192, 113, 113)",
           "rgb(113, 192, 147)",
           "rgb(113, 192, 147)",
           "rgb(113, 192, 147)",
           "rgb(113, 192, 147)",
           "rgb(113, 192, 147)",
           "rgb(113, 192, 147)",
           "rgb(113, 192, 192)",
           "rgb(113, 192, 192)",
           "rgb(113, 124, 192)",
           "rgb(113, 124, 192)",
           "rgb(192, 113, 113)",
           "rgb(192, 113, 113)",
           "rgb(192, 113, 113)",
           "rgb(192, 113, 113)",
           "rgb(192, 113, 113)",
           "rgb(192, 113, 113)",
           "rgb(192, 113, 113)",
           "rgb(192, 113, 113)",
           "rgb(192, 113, 113)",
           "rgb(192, 113, 113)",
           "rgb(192, 113, 113)",
           "rgb(192, 113, 113)",
           "rgb(192, 113, 113)",
           "rgb(113, 192, 147)",
           "rgb(113, 192, 147)",
           "rgb(113, 192, 147)",
           "rgb(113, 192, 147)",
           "rgb(113, 192, 147)",
           "rgb(113, 192, 147)",
           "rgb(192, 179, 113)",
           "rgb(192, 179, 113)",
           "rgb(192, 179, 113)",
           "rgb(192, 179, 113)",
           "rgb(113, 192, 192)",
           "rgb(192, 179, 113)",
           "rgb(113, 192, 192)",
           "rgb(192, 179, 113)",
           "rgb(192, 179, 113)",
           "rgb(192, 179, 113)",
           "rgb(192, 179, 113)",
           "rgb(192, 179, 113)",
           "rgb(192, 179, 113)",
           "rgb(192, 179, 113)",
           "rgb(192, 179, 113)",
           "rgb(192, 179, 113)",
           "rgb(192, 179, 113)",
           "rgb(192, 179, 113)",
           "rgb(192, 179, 113)",
           "rgb(192, 179, 113)",
           "rgb(192, 179, 113)",
           "rgb(192, 179, 113)",
           "rgb(192, 179, 113)",
           "rgb(192, 179, 113)",
           "rgb(192, 179, 113)",
           "rgb(192, 179, 113)",
           "rgb(192, 179, 113)",
           "rgb(192, 179, 113)",
           "rgb(192, 179, 113)",
           "rgb(192, 179, 113)",
           "rgb(192, 113, 113)",
           "rgb(192, 113, 113)",
           "rgb(192, 113, 113)",
           "rgb(192, 113, 113)",
           "rgb(192, 113, 113)",
           "rgb(192, 113, 113)",
           "rgb(192, 113, 113)",
           "rgb(192, 113, 113)",
           "rgb(192, 113, 113)",
           "rgb(113, 192, 147)",
           "rgb(192, 113, 113)",
           "rgb(113, 192, 147)",
           "rgb(192, 113, 113)",
           "rgb(192, 113, 113)",
           "rgb(113, 192, 147)",
           "rgb(113, 192, 147)",
           "rgb(192, 113, 134)",
           "rgb(192, 113, 134)",
           "rgb(192, 113, 134)",
           "rgb(192, 113, 113)",
           "rgb(192, 113, 134)",
           "rgb(192, 113, 113)",
           "rgb(192, 113, 113)",
           "rgb(192, 113, 113)",
           "rgb(192, 113, 113)",
           "rgb(192, 113, 113)",
           "rgb(192, 113, 113)",
           "rgb(192, 113, 113)",
           "rgb(192, 113, 113)",
           "rgb(192, 113, 113)",
           "rgb(192, 113, 113)",
           "rgb(192, 113, 113)",
           "rgb(192, 113, 113)",
           "rgb(113, 192, 147)",
           "rgb(113, 192, 147)",
           "rgb(192, 179, 113)",
           "rgb(113, 192, 147)",
           "rgb(192, 179, 113)",
           "rgb(192, 179, 113)",
           "rgb(192, 179, 113)",
           "rgb(192, 179, 113)",
           "rgb(192, 179, 113)",
           "rgb(113, 192, 147)",
           "rgb(192, 179, 113)",
           "rgb(192, 179, 113)",
           "rgb(192, 179, 113)",
           "rgb(113, 192, 192)",
           "rgb(192, 179, 113)",
           "rgb(192, 179, 113)",
           "rgb(192, 179, 113)",
           "rgb(153, 113, 192)",
           "rgb(192, 179, 113)",
           "rgb(113, 192, 192)",
           "rgb(187, 113, 192)",
           "rgb(113, 192, 192)",
           "rgb(187, 113, 192)",
           "rgb(153, 113, 192)",
           "rgb(192, 179, 113)",
           "rgb(113, 192, 147)",
           "rgb(192, 113, 113)",
           "rgb(192, 113, 113)",
           "rgb(192, 113, 113)",
           "rgb(160, 192, 113)",
           "rgb(192, 113, 113)",
           "rgb(113, 192, 147)",
           "rgb(113, 192, 147)",
           "rgb(113, 192, 147)",
           "rgb(113, 192, 147)",
           "rgb(113, 192, 147)",
           "rgb(113, 192, 147)",
           "rgb(113, 192, 147)",
           "rgb(113, 192, 147)",
           "rgb(113, 192, 147)",
           "rgb(113, 192, 147)",
           "rgb(113, 192, 147)",
           "rgb(113, 192, 147)",
           "rgb(113, 192, 147)",
           "rgb(113, 192, 192)",
           "rgb(153, 113, 192)",
           "rgb(187, 113, 192)",
           "rgb(153, 113, 192)",
           "rgb(153, 113, 192)",
           "rgb(113, 192, 192)",
           "rgb(113, 192, 192)",
           "rgb(187, 113, 192)",
           "rgb(113, 192, 192)",
           "rgb(153, 113, 192)",
           "rgb(113, 192, 192)",
           "rgb(113, 192, 147)",
           "rgb(113, 192, 147)",
           "rgb(113, 192, 147)",
           "rgb(113, 192, 147)",
           "rgb(113, 192, 147)",
           "rgb(113, 192, 147)",
           "rgb(113, 192, 147)",
           "rgb(113, 192, 147)",
           "rgb(113, 192, 147)",
           "rgb(113, 192, 147)",
           "rgb(113, 192, 147)",
           "rgb(113, 192, 147)",
           "rgb(113, 192, 147)",
           "rgb(113, 192, 147)",
           "rgb(113, 192, 147)",
           "rgb(113, 192, 147)",
           "rgb(113, 192, 147)",
           "rgb(192, 113, 113)",
           "rgb(113, 192, 147)",
           "rgb(113, 192, 147)",
           "rgb(113, 192, 192)",
           "rgb(113, 192, 192)",
           "rgb(113, 124, 192)",
           "rgb(113, 124, 192)",
           "rgb(113, 124, 192)",
           "rgb(113, 124, 192)",
           "rgb(113, 124, 192)",
           "rgb(160, 192, 113)",
           "rgb(160, 192, 113)",
           "rgb(160, 192, 113)",
           "rgb(160, 192, 113)",
           "rgb(160, 192, 113)",
           "rgb(113, 192, 192)",
           "rgb(113, 192, 192)",
           "rgb(153, 113, 192)",
           "rgb(113, 192, 192)",
           "rgb(113, 192, 192)",
           "rgb(113, 192, 192)",
           "rgb(153, 113, 192)",
           "rgb(113, 192, 192)",
           "rgb(192, 179, 113)",
           "rgb(113, 124, 192)",
           "rgb(113, 124, 192)",
           "rgb(113, 124, 192)",
           "rgb(113, 124, 192)",
           "rgb(113, 124, 192)",
           "rgb(113, 124, 192)",
           "rgb(113, 124, 192)",
           "rgb(113, 124, 192)",
           "rgb(160, 192, 113)",
           "rgb(160, 192, 113)",
           "rgb(160, 192, 113)",
           "rgb(160, 192, 113)",
           "rgb(160, 192, 113)",
           "rgb(160, 192, 113)",
           "rgb(160, 192, 113)",
           "rgb(160, 192, 113)",
           "rgb(160, 192, 113)",
           "rgb(160, 192, 113)",
           "rgb(160, 192, 113)",
           "rgb(160, 192, 113)",
           "rgb(160, 192, 113)",
           "rgb(160, 192, 113)",
           "rgb(160, 192, 113)",
           "rgb(160, 192, 113)",
           "rgb(160, 192, 113)",
           "rgb(160, 192, 113)",
           "rgb(160, 192, 113)",
           "rgb(160, 192, 113)",
           "rgb(160, 192, 113)",
           "rgb(153, 113, 192)",
           "rgb(192, 179, 113)",
           "rgb(113, 124, 192)",
           "rgb(113, 124, 192)",
           "rgb(113, 124, 192)",
           "rgb(113, 124, 192)",
           "rgb(113, 124, 192)",
           "rgb(113, 124, 192)",
           "rgb(113, 124, 192)",
           "rgb(113, 124, 192)",
           "rgb(113, 124, 192)",
           "rgb(113, 124, 192)",
           "rgb(160, 192, 113)",
           "rgb(160, 192, 113)",
           "rgb(160, 192, 113)",
           "rgb(113, 192, 192)",
           "rgb(192, 179, 113)",
           "rgb(192, 113, 113)",
           "rgb(192, 113, 113)",
           "rgb(192, 113, 113)",
           "rgb(113, 192, 147)",
           "rgb(192, 113, 113)",
           "rgb(192, 113, 113)",
           "rgb(192, 113, 113)",
           "rgb(192, 113, 113)",
           "rgb(192, 113, 113)",
           "rgb(113, 192, 147)",
           "rgb(192, 179, 113)",
           "rgb(113, 192, 147)",
           "rgb(113, 192, 147)",
           "rgb(113, 192, 147)",
           "rgb(113, 192, 147)",
           "rgb(113, 192, 147)",
           "rgb(113, 192, 147)",
           "rgb(113, 192, 147)",
           "rgb(113, 192, 147)",
           "rgb(113, 192, 147)",
           "rgb(113, 192, 147)",
           "rgb(113, 192, 147)",
           "rgb(113, 192, 147)",
           "rgb(113, 192, 147)",
           "rgb(113, 192, 147)",
           "rgb(113, 192, 147)",
           "rgb(113, 192, 147)",
           "rgb(113, 192, 147)",
           "rgb(113, 192, 147)",
           "rgb(113, 192, 147)",
           "rgb(113, 192, 147)",
           "rgb(113, 192, 147)",
           "rgb(113, 192, 147)",
           "rgb(192, 179, 113)",
           "rgb(160, 192, 113)",
           "rgb(160, 192, 113)",
           "rgb(160, 192, 113)",
           "rgb(160, 192, 113)",
           "rgb(160, 192, 113)",
           "rgb(160, 192, 113)",
           "rgb(160, 192, 113)",
           "rgb(160, 192, 113)",
           "rgb(160, 192, 113)",
           "rgb(160, 192, 113)",
           "rgb(160, 192, 113)",
           "rgb(160, 192, 113)",
           "rgb(160, 192, 113)",
           "rgb(160, 192, 113)",
           "rgb(160, 192, 113)",
           "rgb(160, 192, 113)",
           "rgb(160, 192, 113)",
           "rgb(160, 192, 113)",
           "rgb(160, 192, 113)",
           "rgb(160, 192, 113)",
           "rgb(160, 192, 113)",
           "rgb(160, 192, 113)",
           "rgb(160, 192, 113)",
           "rgb(160, 192, 113)",
           "rgb(160, 192, 113)",
           "rgb(160, 192, 113)",
           "rgb(160, 192, 113)",
           "rgb(160, 192, 113)",
           "rgb(160, 192, 113)",
           "rgb(160, 192, 113)",
           "rgb(160, 192, 113)",
           "rgb(160, 192, 113)",
           "rgb(160, 192, 113)",
           "rgb(160, 192, 113)",
           "rgb(160, 192, 113)",
           "rgb(160, 192, 113)",
           "rgb(160, 192, 113)",
           "rgb(160, 192, 113)",
           "rgb(160, 192, 113)",
           "rgb(192, 179, 113)",
           "rgb(192, 113, 134)",
           "rgb(192, 179, 113)",
           "rgb(192, 179, 113)",
           "rgb(113, 192, 192)",
           "rgb(203, 76, 76)",
           "rgb(203, 76, 76)",
           "rgb(160, 192, 113)",
           "rgb(160, 192, 113)",
           "rgb(160, 192, 113)",
           "rgb(160, 192, 113)",
           "rgb(160, 192, 113)",
           "rgb(160, 192, 113)",
           "rgb(160, 192, 113)",
           "rgb(160, 192, 113)",
           "rgb(160, 192, 113)",
           "rgb(160, 192, 113)",
           "rgb(160, 192, 113)",
           "rgb(160, 192, 113)",
           "rgb(160, 192, 113)",
           "rgb(160, 192, 113)",
           "rgb(160, 192, 113)",
           "rgb(160, 192, 113)",
           "rgb(160, 192, 113)",
           "rgb(160, 192, 113)",
           "rgb(160, 192, 113)"
          ],
          "size": 11
         },
         "mode": "markers",
         "text": [
          "Divadlo DISK",
          "Divadlo U22",
          "Divadlo Na Cikorce",
          "Divadlo Ty-já-tr",
          "Divadlo Inspirace - scénický ateliér HAMU",
          "Studio 1",
          "Loutkové divadlo Jiskra",
          "Divadlo ABC",
          "Divadlo Rokoko",
          "Národní divadlo - historická budova",
          "Státní opera Praha",
          "Stavovské divadlo",
          "Divadlo Spejbla a Hurvínka",
          "Divadlo Ta Fantastika",
          "Divadlo U Hasičů",
          "Divadlo U Valšů",
          "Divadlo V Dlouhé",
          "Divadlo V Rytířské",
          "Divadlo V Řeznické",
          "Divadlo Ve věži",
          "Divadlo Viola",
          "Divadlo NoD",
          "Hudební divadlo Karlín",
          "Pidivadlo",
          "ProDivadlo",
          "RockOpera Praha",
          "Galerie Vyšehrad",
          "Galerie NTK",
          "Staroměstská radnice – Křížová chodba, Rytířský sál",
          "AD Galerie",
          "Ars Diva Galerie",
          "Art & Event Gallery Černá labuť",
          "Artinbox Gallery",
          "Artpro gallery",
          "Entrance Gallery",
          "Etc. Galerie",
          "European Arts - galerie a aukční síň",
          "Fotograf Gallery",
          "Fox Gallery",
          "Galerie 1. patro",
          "Galerie 22",
          "Galerie 35M2",
          "Galerie Art Praha",
          "Czech Inn Bar",
          "Groove Bar",
          "La Loca MUSIC BAR & LOUNGE",
          "Mecca Club Prague",
          "Klub Famu",
          "Klub Rybanaruby",
          "Galerie ARTWALL",
          "Galerie budoart",
          "Galerie CZECHDESIGN",
          "Galerie DO/OKA",
          "Galerie eS",
          "Galerie Ferdinanda Baumanna",
          "Galerie Fotografic",
          "Galerie Hollar",
          "Galerie Hunt Kastner",
          "Galerie Vltavín",
          "Galerie Výtoň",
          "Galerie Zdeněk Sklenář - Salvátorská",
          "Galerie Ztichlá klika",
          "Gallery of Art Prague",
          "Hradčanská Galerie Josefa Kalouska",
          "Galerie Chodovská tvrz",
          "Latin Art Gallery",
          "Leica Gallery Prague",
          "Lucie Drdova Gallery",
          "NAU gallery",
          "Nikon Photo Gallery",
          "Nová galerie",
          "Studio DVA",
          "Studio Hrdinů ",
          "Studio Paměť",
          "Studio Ypsilon",
          "Švandovo divadlo na Smíchově",
          "Divadlo Říše loutek",
          "Vršovické divadlo MANA",
          "Žižkovské divadlo Járy Cimrmana",
          "Studio 2 - Slévárna",
          "Divadlo Duncan Centre",
          "Divadlo Esence",
          "Cross Club",
          "Galerie Jaroslava Fragnera",
          "Galerie Jelení",
          "Galerie Josipa Plečnika",
          "Galerie Julio Cortázar",
          "Galerie Kodl",
          "Galerie kritiků",
          "Galerie Kubista",
          "Galerie KusKovu",
          "Galerie Kvalitář",
          "Galerie La Femme",
          "Galerie Lapidarium",
          "Galerie Litera",
          "Galerie Millenium",
          "Galerie MIRO",
          "Galerie Jakubská",
          "Galerie Moderna",
          "Galerie Rock Café",
          "Galerie Ostrov",
          "Galerie Pastelka",
          "Galerie Pecka",
          "Galerie Peron",
          "Galerie Petr Žaloudek",
          "Galerie Petra Brandla",
          "Galerie Scarabeus a Muzeum kávy",
          "Galerie SPZ",
          "Galerie Tančící dům",
          "Galerie U Betlémské kaple",
          "Galerie U Zlatého kohouta",
          "Galerie v Lazarské",
          "Galerie Václava Špály",
          "Klub Lávka",
          "Reduta Jazz club",
          "Cinema City Flora",
          "Cinema City Galaxie",
          "Muzeum LEGA",
          "Muzeum miniatur v Praze",
          "Muzeum piva (Beer museum)",
          "Muzeum Policie České Republiky",
          "Muzeum pražského vodárenství",
          "Muzeum pražských pověstí a strašidel",
          "Muzeum studené války",
          "Národní pedagogické muzeum a Knihovna J. A. Komenského",
          "Národní technické muzeum",
          "Národní zemědělské muzeum",
          "Pivovarské muzeum u Fleků",
          "Rodinné muzeum pohledů",
          "Uměleckoprůmyslové muzeum v Praze",
          "Zdeněk Hajný - Galerie cesty ke světlu",
          "Galerie AVU",
          "Galerie Pavilon",
          "Galerie rudolfinum",
          "Galerie 1",
          "Galerie Mánes",
          "Divadlo Na Rejdišti",
          "Salesiánské divadlo",
          "A studio Rubín",
          "Branické divadlo",
          "Činoherní klub",
          "Dejvické divadlo",
          "Divadelní klub Troníček",
          "Divadlo Archa",
          "Divadlo Bez Hranic",
          "Divadlo Bez zábradlí",
          "Divadlo Broadway",
          "Divadlo D21 ",
          "Divadlo Gong",
          "Divadlo Hybernia",
          "Divadlo Kalich ",
          "Divadlo Kámen",
          "Divadlo Kampa",
          "Divadlo Metro",
          "Divadlo Minor",
          "Divadlo Na Fidlovačce",
          "Divadlo Na Jezerce",
          "Divadlo na Perštýně",
          "Divadlo Na prádle",
          "Divadlo Na Vinohradech",
          "Divadlo Na zábradlí",
          "Divadlo Orfeus",
          "Divadlo Palace",
          "Divadlo Pod Palmovkou",
          "Ponec - divadlo pro tanec",
          "Divadlo Radka Brzobohatého",
          "Hlavní budova muzea",
          "Zdravotnické muzeum",
          "Muzeum Antonína Dvořáka",
          "Muzeum Bedřicha Smetany",
          "Náprstkovo muzeum ",
          "Lapidárium Národního muzea",
          "Národopisné muzeum Národního muzea",
          "České muzeum hudby",
          "Nová budova Národního muzea",
          "Galerie Smečky",
          "Plynárenské muzeum",
          "Galerie Josefa Sudka",
          "Hrdličkovo muzeum člověka Univerzity Karlovy",
          "Letecké muzeum Kbely",
          "Galerie UM",
          "Galerie Roberta Guttmanna",
          "Klausová synagoga",
          "Pinkasova synagoga",
          "Španělská synagoga",
          "Židovské muzeum v Praze - Obřadní síň",
          "Maiselova synagoga",
          "Choco-Story Praha – Muzeum čokolády",
          "Magic Garnet Museum",
          "Muchovo museum",
          "MuMo - Museum Montanelli",
          "Museum Kampa",
          "Museum útrpného práva a středověkých mučicích nástrojů",
          "Muzeum a archiv populární hudby - PopMuseum",
          "Muzeum Karla Zemana",
          "Muzeum Karlova mostu",
          "Muzeum KGB",
          "Muzeum komunismu",
          "Muzeum Kouzlo starých časů",
          "Pražská galerie českého skla",
          "S galerie",
          "Studio Prototyp",
          "The Chemistry Gallery",
          "Divadlo Apropo",
          "Černé divadlo, pobočka Zbraslav",
          "Divadelní studio Neklid",
          "Divadelní studio Žižkov",
          "Divadlo Balbínka",
          "Polansky Gallery",
          "Divadlo Ungelt",
          "Divadlo v Korunní",
          "Divadlo za plotem",
          "Klub Klamovka",
          "Divadlo Komedie",
          "Divadlo Jana Kašky",
          "Divadlo NP (Divadlo Na půdě)",
          "Lucerna Music Bar",
          "Divadlo Sklep",
          "Strom Club",
          "Neustadt Cafe",
          "Klubovna 2. patro",
          "Hard Rock Cafe Praha",
          "Futurum music Bar",
          "Studio Alta",
          "Galerie AMU",
          "Poštovní muzeum",
          "Muzeum městské hromadné dopravy v Praze",
          "Muzeum družstevnictví",
          "Městská knihovna 2.patro",
          "Muzeum U Pražského jezulátka",
          "Galerie Mimochodem",
          "Galerie Villa Pellé",
          "Galerie Altán Klamovka",
          "Jan Čejka Gallery",
          "Cermak Eisenkraft gallery",
          "Galerie NoD",
          "Trafo Gallery",
          "Galerie HŠ",
          "Galerie Zezula",
          "Galerie Gema",
          "Hauch Gallery",
          "Galerie VI PER",
          "Galerie Bubec",
          "Uhelna Club",
          "Nebe Music Bar",
          "Cafe 80's",
          "Kontrast Bar",
          "Pekelnej Bar",
          "Klub Joe",
          "Hudební klub Palmovka",
          "Jam Cafe",
          "FreeMasonic club pub",
          "DoubleTrouble Music Bar",
          "Jamm Club",
          "White Pearl Gallery",
          "Pražská galerie českého skla",
          "The White Room Gallery",
          "Pragovka Gallery",
          "Korpus Gallery",
          "Galerie A.M. 180",
          "Galerie českých center",
          "8gallery",
          "Galerie 101",
          "Galerie kavárny Louvre",
          "Galerie MeetFactory",
          "Galerie Nativ",
          "Galerie Kostka",
          "Galerie Kuzebauch",
          "Artery Prague Gallery",
          "Galerie Petr Novotný",
          "Galerie Havelka",
          "Illusion Art Museum",
          "Knupp Gallery",
          "Galerie Josefa Adamce",
          "Klub Kocour",
          "Theatro Music Club",
          "Cinema City Chodov",
          "Kino Beseda Praha - Klánovice",
          "Kino Evropský dům",
          "Kino Účko U22 ",
          "Kino Pilotů",
          "Místní knihovna v Praze 17 - Řepy",
          "Místní lidová knihovna Praha 11",
          "Městská knihovna v Praze - pobočka Malešická",
          "Městská knihovna v Praze – pobočka Letná",
          "Knihovna Václava Havla",
          "Atelier Club",
          "Klub Újezd",
          "Phenomen Music Bar",
          "Kain Rock Club",
          "Fatal Music Club",
          "Jazz & Blues Club Ungelt",
          "Nebe Music Bar",
          "Loop Jazz Club",
          "Studio 54",
          "Cinema City IMAX Flora",
          "Cinema City Letňany",
          "Cinema City Nový Smíchov",
          "Cinema City Slovanský dům",
          "Cinema City Zličín",
          "Kino 35",
          "Kino Radotín",
          "Kino Městské knihovny v Praze",
          "Místní knihovna Praha - Běchovice",
          "Místní knihovna Praha - Březiněves",
          "Místní knihovna Čakovice",
          "Místní knihovna Třeboradice",
          "Místní knihovna Praha - Ďáblice",
          "\nMístní veřejná knihovna v Praze - Dolních Chabrech\n",
          "Místní knihovna Dolní Počernice",
          "Místní knihovna Praha - Dubeč",
          "Místní veřejná knihovna Praha- Horní Počernice",
          "Místní knihovna Praha - Klánovice",
          "Místní knihovna Praha - Koloděje",
          "Místní veřejná knihovna v Praze - Kunraticích",
          "Místní knihovna Praha - Lochkov",
          "Místní knihovna Praha - Nedvězí",
          "Místní knihovna MČ Praha – Petrovice",
          "Místní knihovna Praha 5 - Řeporyje",
          "Místní knihovna Praha Satalice",
          "\nMístní veřejná knihovna v Praze - Šeberově\n",
          "Místní knihovna Praha - Štěrboholy",
          "Místní knihovna Praha - Vinoř",
          "Místní knihovna Radotín",
          "Kulturní dům Barikádníků",
          "Studio BUBEC",
          "Kino 43",
          "Kino Aero",
          "Kino Atlas",
          "Kino BÉLA",
          "Kino Lucerna",
          "Kino MAT",
          "Kino Ponrepo",
          "Komorní kino Evald",
          "Kino Dlabačov ",
          "Premiere Cinemas Hostivař",
          "Husova knihovna v Modřanech",
          "Husova knihovna v Modřanech - pobočka Tyršova čtvrť",
          "Knihovna MČ Praha 18 \n",
          "Studentský klub Celetná",
          "ROYAL - Theater, Cinema, Café",
          "Historická budova Národního muzea",
          "Mineralogické muzeum",
          "Portheimka - Muzeum skla",
          "Galerie Vinohradská 12",
          "Uhříněveské muzeum",
          "Chlupáčovo muzeum historie Země",
          "Muzeum alchymistů a mágů staré Prahy",
          "Muzeum smyslů (Museum of Senses)",
          "Muzeum Újezd nad Lesy",
          "Galerie České spořitelny",
          "Karlín Studios",
          "Galerie Emilie Paličkové",
          "Galerie věda a umění",
          "Galerie v 5. patře",
          "Galerie pod radnicí",
          "Galerie v kapli",
          "Galerie Toyen",
          "Galerie Skleňák",
          "Galerie Kurzor",
          "Galerie na Miladě",
          "Galerie na úřadě",
          "Galerie 14",
          "Galerie U zřícené lávky",
          "Galerie Zbraslav",
          "Galerie Navrátil",
          "Galerie KC Průhon",
          "Galerie Zdeněk Sklenář - Schönkirchovský palác",
          "Galerie Navrátil",
          "Galerie 35",
          "Galerie Lucerna - Prostor pro současné umění",
          "Galerie NIKA - malá galerie Umprum",
          "Galerie Jiřího Švestky",
          "Galerie Makráč",
          "Studio PRÁM",
          "Městská knihovna v Praze - pobočka Velká Chuchle",
          "Městská knihovna v Praze - pobočka Vikova",
          "Městská knihovna v Praze - pobočka Vozovna",
          "Městská knihovna v Praze - pobočka Vysočany",
          "Městská knihovna v Praze - pobočka Zahradní Město",
          "Městská knihovna v Praze - pobočka Záhřebská",
          "Městská knihovna v Praze - pobočka Žižkov",
          "Městská knihovna v Praze - Pojízdná knihovna",
          "Městská knihovna v Praze - pobočka Skalka",
          "Městská knihovna v Praze - Ústřední knihovna",
          "Městská knihovna v Praze - Oddělení vzácných tisků",
          "Národní knihovna České republiky - Centrální depozitář",
          "Knihovna na Vinohradech\n",
          "Veřejná knihovna Slivenec",
          "Místní veřejná knihovna Praha- Suchdol",
          "Mistní knihovna Praha - Zbraslav",
          "Zličínská knihovna",
          "Městská knihovna v Praze - pobočka Cibulka",
          "Městská knihovna v Praze - pobočka Dejvice",
          "Městská knihovna v Praze - pobočka Barrandov",
          "Městská knihovna v Praze - pobočka Bohnice",
          "Městská knihovna v Praze - pobočka Břevnov",
          "Místní knihovna Praha - Královice",
          "\nMístní veřejná knihovna v Praze - Lipencích\n",
          "Místní knihovna Lysolaje",
          "Místní knihovna Praha - Přední Kopanina",
          "Městská knihovna v Praze - pobočka Modřany",
          "Městská knihovna v Praze - pobočka Novodvorská",
          "Městská knihovna v Praze - pobočka Opatov",
          "Městská knihovna v Praze - pobočka Ostrčilovo nám.",
          "Městská knihovna v Praze - pobočka Ostrovského",
          "Městská knihovna v Praze - pobočka Pankrác",
          "Městská knihovna v Praze - pobočka Petřiny",
          "Městská knihovna v Praze - pobočka Prosek",
          "Městská knihovna v Praze - pobočka Sedmička",
          "Městská knihovna v Praze - pobočka Smíchov",
          "Městská knihovna v Praze - pobočka Spořilov",
          "Městská knihovna v Praze - pobočka Stodůlky",
          "Městská knihovna v Praze - pobočka Školská",
          "Divadlo Horní Počernice",
          "Synagoga na Palmovce",
          "Studio Citadela",
          "Karlin Studios",
          "Kulturní klub Poštovka",
          "O2 arena",
          "Tipsport arena",
          "Místní knihovna Praha - Kbely",
          "Místní knihovna Praha - Újezd nad Lesy\n",
          "Místní knihovna Uhříněves",
          "Místní knihovna Praha - Benice",
          "Knihovna s infocentrem - Kolovraty",
          "Městská knihovna v Praze - pobočka Černý Most",
          "Městská knihovna v Praze - pobočka Dědina",
          "Městská knihovna v Praze - pobočka Dittrichova",
          "Městská knihovna v Praze - pobočka Dům čtení",
          "Městská knihovna v Praze - pobočka Hloubětín",
          "Městská knihovna v Praze - pobočka Hostivař",
          "Městská knihovna v Praze - pobočka Hradčany",
          "Městská knihovna v Praze - pobočka Chodov",
          "Městská knihovna v Praze - pobočka Kobylisy",
          "Městská knihovna v Praze - pobočka Korunní",
          "Městská knihovna v Praze - pobočka Krč",
          "Městská knihovna v Praze - pobočka Ládví",
          "Městská knihovna v Praze - pobočka Lužiny",
          "Městská knihovna v Praze - pobočka Michle"
         ],
         "type": "scattermapbox"
        }
       ],
       "layout": {
        "autosize": true,
        "height": 600,
        "hovermode": "closest",
        "mapbox": {
         "accesstoken": "pk.eyJ1IjoicmFzdHIiLCJhIjoiY2w5eWxvbXFqMDFjdjN3bzB5b2doMGhpMCJ9.NoK8XFc0qmbgBwafVzRlBw",
         "bearing": 0,
         "center": {
          "lat": 50.0755,
          "lon": 14.4378
         },
         "pitch": 0,
         "zoom": 11
        },
        "margin": {
         "b": 0,
         "l": 0,
         "r": 0,
         "t": 0
        },
        "showlegend": false,
        "template": {
         "data": {
          "bar": [
           {
            "error_x": {
             "color": "#2a3f5f"
            },
            "error_y": {
             "color": "#2a3f5f"
            },
            "marker": {
             "line": {
              "color": "#E5ECF6",
              "width": 0.5
             },
             "pattern": {
              "fillmode": "overlay",
              "size": 10,
              "solidity": 0.2
             }
            },
            "type": "bar"
           }
          ],
          "barpolar": [
           {
            "marker": {
             "line": {
              "color": "#E5ECF6",
              "width": 0.5
             },
             "pattern": {
              "fillmode": "overlay",
              "size": 10,
              "solidity": 0.2
             }
            },
            "type": "barpolar"
           }
          ],
          "carpet": [
           {
            "aaxis": {
             "endlinecolor": "#2a3f5f",
             "gridcolor": "white",
             "linecolor": "white",
             "minorgridcolor": "white",
             "startlinecolor": "#2a3f5f"
            },
            "baxis": {
             "endlinecolor": "#2a3f5f",
             "gridcolor": "white",
             "linecolor": "white",
             "minorgridcolor": "white",
             "startlinecolor": "#2a3f5f"
            },
            "type": "carpet"
           }
          ],
          "choropleth": [
           {
            "colorbar": {
             "outlinewidth": 0,
             "ticks": ""
            },
            "type": "choropleth"
           }
          ],
          "contour": [
           {
            "colorbar": {
             "outlinewidth": 0,
             "ticks": ""
            },
            "colorscale": [
             [
              0,
              "#0d0887"
             ],
             [
              0.1111111111111111,
              "#46039f"
             ],
             [
              0.2222222222222222,
              "#7201a8"
             ],
             [
              0.3333333333333333,
              "#9c179e"
             ],
             [
              0.4444444444444444,
              "#bd3786"
             ],
             [
              0.5555555555555556,
              "#d8576b"
             ],
             [
              0.6666666666666666,
              "#ed7953"
             ],
             [
              0.7777777777777778,
              "#fb9f3a"
             ],
             [
              0.8888888888888888,
              "#fdca26"
             ],
             [
              1,
              "#f0f921"
             ]
            ],
            "type": "contour"
           }
          ],
          "contourcarpet": [
           {
            "colorbar": {
             "outlinewidth": 0,
             "ticks": ""
            },
            "type": "contourcarpet"
           }
          ],
          "heatmap": [
           {
            "colorbar": {
             "outlinewidth": 0,
             "ticks": ""
            },
            "colorscale": [
             [
              0,
              "#0d0887"
             ],
             [
              0.1111111111111111,
              "#46039f"
             ],
             [
              0.2222222222222222,
              "#7201a8"
             ],
             [
              0.3333333333333333,
              "#9c179e"
             ],
             [
              0.4444444444444444,
              "#bd3786"
             ],
             [
              0.5555555555555556,
              "#d8576b"
             ],
             [
              0.6666666666666666,
              "#ed7953"
             ],
             [
              0.7777777777777778,
              "#fb9f3a"
             ],
             [
              0.8888888888888888,
              "#fdca26"
             ],
             [
              1,
              "#f0f921"
             ]
            ],
            "type": "heatmap"
           }
          ],
          "heatmapgl": [
           {
            "colorbar": {
             "outlinewidth": 0,
             "ticks": ""
            },
            "colorscale": [
             [
              0,
              "#0d0887"
             ],
             [
              0.1111111111111111,
              "#46039f"
             ],
             [
              0.2222222222222222,
              "#7201a8"
             ],
             [
              0.3333333333333333,
              "#9c179e"
             ],
             [
              0.4444444444444444,
              "#bd3786"
             ],
             [
              0.5555555555555556,
              "#d8576b"
             ],
             [
              0.6666666666666666,
              "#ed7953"
             ],
             [
              0.7777777777777778,
              "#fb9f3a"
             ],
             [
              0.8888888888888888,
              "#fdca26"
             ],
             [
              1,
              "#f0f921"
             ]
            ],
            "type": "heatmapgl"
           }
          ],
          "histogram": [
           {
            "marker": {
             "pattern": {
              "fillmode": "overlay",
              "size": 10,
              "solidity": 0.2
             }
            },
            "type": "histogram"
           }
          ],
          "histogram2d": [
           {
            "colorbar": {
             "outlinewidth": 0,
             "ticks": ""
            },
            "colorscale": [
             [
              0,
              "#0d0887"
             ],
             [
              0.1111111111111111,
              "#46039f"
             ],
             [
              0.2222222222222222,
              "#7201a8"
             ],
             [
              0.3333333333333333,
              "#9c179e"
             ],
             [
              0.4444444444444444,
              "#bd3786"
             ],
             [
              0.5555555555555556,
              "#d8576b"
             ],
             [
              0.6666666666666666,
              "#ed7953"
             ],
             [
              0.7777777777777778,
              "#fb9f3a"
             ],
             [
              0.8888888888888888,
              "#fdca26"
             ],
             [
              1,
              "#f0f921"
             ]
            ],
            "type": "histogram2d"
           }
          ],
          "histogram2dcontour": [
           {
            "colorbar": {
             "outlinewidth": 0,
             "ticks": ""
            },
            "colorscale": [
             [
              0,
              "#0d0887"
             ],
             [
              0.1111111111111111,
              "#46039f"
             ],
             [
              0.2222222222222222,
              "#7201a8"
             ],
             [
              0.3333333333333333,
              "#9c179e"
             ],
             [
              0.4444444444444444,
              "#bd3786"
             ],
             [
              0.5555555555555556,
              "#d8576b"
             ],
             [
              0.6666666666666666,
              "#ed7953"
             ],
             [
              0.7777777777777778,
              "#fb9f3a"
             ],
             [
              0.8888888888888888,
              "#fdca26"
             ],
             [
              1,
              "#f0f921"
             ]
            ],
            "type": "histogram2dcontour"
           }
          ],
          "mesh3d": [
           {
            "colorbar": {
             "outlinewidth": 0,
             "ticks": ""
            },
            "type": "mesh3d"
           }
          ],
          "parcoords": [
           {
            "line": {
             "colorbar": {
              "outlinewidth": 0,
              "ticks": ""
             }
            },
            "type": "parcoords"
           }
          ],
          "pie": [
           {
            "automargin": true,
            "type": "pie"
           }
          ],
          "scatter": [
           {
            "fillpattern": {
             "fillmode": "overlay",
             "size": 10,
             "solidity": 0.2
            },
            "type": "scatter"
           }
          ],
          "scatter3d": [
           {
            "line": {
             "colorbar": {
              "outlinewidth": 0,
              "ticks": ""
             }
            },
            "marker": {
             "colorbar": {
              "outlinewidth": 0,
              "ticks": ""
             }
            },
            "type": "scatter3d"
           }
          ],
          "scattercarpet": [
           {
            "marker": {
             "colorbar": {
              "outlinewidth": 0,
              "ticks": ""
             }
            },
            "type": "scattercarpet"
           }
          ],
          "scattergeo": [
           {
            "marker": {
             "colorbar": {
              "outlinewidth": 0,
              "ticks": ""
             }
            },
            "type": "scattergeo"
           }
          ],
          "scattergl": [
           {
            "marker": {
             "colorbar": {
              "outlinewidth": 0,
              "ticks": ""
             }
            },
            "type": "scattergl"
           }
          ],
          "scattermapbox": [
           {
            "marker": {
             "colorbar": {
              "outlinewidth": 0,
              "ticks": ""
             }
            },
            "type": "scattermapbox"
           }
          ],
          "scatterpolar": [
           {
            "marker": {
             "colorbar": {
              "outlinewidth": 0,
              "ticks": ""
             }
            },
            "type": "scatterpolar"
           }
          ],
          "scatterpolargl": [
           {
            "marker": {
             "colorbar": {
              "outlinewidth": 0,
              "ticks": ""
             }
            },
            "type": "scatterpolargl"
           }
          ],
          "scatterternary": [
           {
            "marker": {
             "colorbar": {
              "outlinewidth": 0,
              "ticks": ""
             }
            },
            "type": "scatterternary"
           }
          ],
          "surface": [
           {
            "colorbar": {
             "outlinewidth": 0,
             "ticks": ""
            },
            "colorscale": [
             [
              0,
              "#0d0887"
             ],
             [
              0.1111111111111111,
              "#46039f"
             ],
             [
              0.2222222222222222,
              "#7201a8"
             ],
             [
              0.3333333333333333,
              "#9c179e"
             ],
             [
              0.4444444444444444,
              "#bd3786"
             ],
             [
              0.5555555555555556,
              "#d8576b"
             ],
             [
              0.6666666666666666,
              "#ed7953"
             ],
             [
              0.7777777777777778,
              "#fb9f3a"
             ],
             [
              0.8888888888888888,
              "#fdca26"
             ],
             [
              1,
              "#f0f921"
             ]
            ],
            "type": "surface"
           }
          ],
          "table": [
           {
            "cells": {
             "fill": {
              "color": "#EBF0F8"
             },
             "line": {
              "color": "white"
             }
            },
            "header": {
             "fill": {
              "color": "#C8D4E3"
             },
             "line": {
              "color": "white"
             }
            },
            "type": "table"
           }
          ]
         },
         "layout": {
          "annotationdefaults": {
           "arrowcolor": "#2a3f5f",
           "arrowhead": 0,
           "arrowwidth": 1
          },
          "autotypenumbers": "strict",
          "coloraxis": {
           "colorbar": {
            "outlinewidth": 0,
            "ticks": ""
           }
          },
          "colorscale": {
           "diverging": [
            [
             0,
             "#8e0152"
            ],
            [
             0.1,
             "#c51b7d"
            ],
            [
             0.2,
             "#de77ae"
            ],
            [
             0.3,
             "#f1b6da"
            ],
            [
             0.4,
             "#fde0ef"
            ],
            [
             0.5,
             "#f7f7f7"
            ],
            [
             0.6,
             "#e6f5d0"
            ],
            [
             0.7,
             "#b8e186"
            ],
            [
             0.8,
             "#7fbc41"
            ],
            [
             0.9,
             "#4d9221"
            ],
            [
             1,
             "#276419"
            ]
           ],
           "sequential": [
            [
             0,
             "#0d0887"
            ],
            [
             0.1111111111111111,
             "#46039f"
            ],
            [
             0.2222222222222222,
             "#7201a8"
            ],
            [
             0.3333333333333333,
             "#9c179e"
            ],
            [
             0.4444444444444444,
             "#bd3786"
            ],
            [
             0.5555555555555556,
             "#d8576b"
            ],
            [
             0.6666666666666666,
             "#ed7953"
            ],
            [
             0.7777777777777778,
             "#fb9f3a"
            ],
            [
             0.8888888888888888,
             "#fdca26"
            ],
            [
             1,
             "#f0f921"
            ]
           ],
           "sequentialminus": [
            [
             0,
             "#0d0887"
            ],
            [
             0.1111111111111111,
             "#46039f"
            ],
            [
             0.2222222222222222,
             "#7201a8"
            ],
            [
             0.3333333333333333,
             "#9c179e"
            ],
            [
             0.4444444444444444,
             "#bd3786"
            ],
            [
             0.5555555555555556,
             "#d8576b"
            ],
            [
             0.6666666666666666,
             "#ed7953"
            ],
            [
             0.7777777777777778,
             "#fb9f3a"
            ],
            [
             0.8888888888888888,
             "#fdca26"
            ],
            [
             1,
             "#f0f921"
            ]
           ]
          },
          "colorway": [
           "#636efa",
           "#EF553B",
           "#00cc96",
           "#ab63fa",
           "#FFA15A",
           "#19d3f3",
           "#FF6692",
           "#B6E880",
           "#FF97FF",
           "#FECB52"
          ],
          "font": {
           "color": "#2a3f5f"
          },
          "geo": {
           "bgcolor": "white",
           "lakecolor": "white",
           "landcolor": "#E5ECF6",
           "showlakes": true,
           "showland": true,
           "subunitcolor": "white"
          },
          "hoverlabel": {
           "align": "left"
          },
          "hovermode": "closest",
          "mapbox": {
           "style": "light"
          },
          "paper_bgcolor": "white",
          "plot_bgcolor": "#E5ECF6",
          "polar": {
           "angularaxis": {
            "gridcolor": "white",
            "linecolor": "white",
            "ticks": ""
           },
           "bgcolor": "#E5ECF6",
           "radialaxis": {
            "gridcolor": "white",
            "linecolor": "white",
            "ticks": ""
           }
          },
          "scene": {
           "xaxis": {
            "backgroundcolor": "#E5ECF6",
            "gridcolor": "white",
            "gridwidth": 2,
            "linecolor": "white",
            "showbackground": true,
            "ticks": "",
            "zerolinecolor": "white"
           },
           "yaxis": {
            "backgroundcolor": "#E5ECF6",
            "gridcolor": "white",
            "gridwidth": 2,
            "linecolor": "white",
            "showbackground": true,
            "ticks": "",
            "zerolinecolor": "white"
           },
           "zaxis": {
            "backgroundcolor": "#E5ECF6",
            "gridcolor": "white",
            "gridwidth": 2,
            "linecolor": "white",
            "showbackground": true,
            "ticks": "",
            "zerolinecolor": "white"
           }
          },
          "shapedefaults": {
           "line": {
            "color": "#2a3f5f"
           }
          },
          "ternary": {
           "aaxis": {
            "gridcolor": "white",
            "linecolor": "white",
            "ticks": ""
           },
           "baxis": {
            "gridcolor": "white",
            "linecolor": "white",
            "ticks": ""
           },
           "bgcolor": "#E5ECF6",
           "caxis": {
            "gridcolor": "white",
            "linecolor": "white",
            "ticks": ""
           }
          },
          "title": {
           "x": 0.05
          },
          "xaxis": {
           "automargin": true,
           "gridcolor": "white",
           "linecolor": "white",
           "ticks": "",
           "title": {
            "standoff": 15
           },
           "zerolinecolor": "white",
           "zerolinewidth": 2
          },
          "yaxis": {
           "automargin": true,
           "gridcolor": "white",
           "linecolor": "white",
           "ticks": "",
           "title": {
            "standoff": 15
           },
           "zerolinecolor": "white",
           "zerolinewidth": 2
          }
         }
        },
        "width": 1200
       }
      }
     },
     "metadata": {},
     "output_type": "display_data"
    }
   ],
   "source": [
    "import plotly.graph_objs as go\n",
    "\n",
    "# Prague coordinates\n",
    "prague_lat = 50.0755\n",
    "prague_lon = 14.4378\n",
    "\n",
    "# coordinates of cultural places in Prague\n",
    "places_lat = df['latitude']\n",
    "places_lon = df['longtitude']\n",
    "\n",
    "# each type of place has its own color\n",
    "colors = {\n",
    "    'Gallery' : 'rgb(113, 192, 147)',\n",
    "    'Library' : 'rgb(160, 192, 113)',\n",
    "    'Theater' : 'rgb(192, 179, 113)',\n",
    "    'Museum' : 'rgb(192, 113, 113)',\n",
    "    'Club' : 'rgb(113, 192, 192)',\n",
    "    'Cinema' : 'rgb(113, 124, 192)',\n",
    "    'Bar' : 'rgb(153, 113, 192)',\n",
    "    'Cafe' : 'rgb(187, 113, 192)',\n",
    "    'Synagoga' : 'rgb(192, 113, 134)',\n",
    "    'Arena' : 'rgb(203, 76, 76)',\n",
    "    'Opera' : 'rgb(41, 67, 10)'\n",
    "}\n",
    "\n",
    "# give each place its own color based on the type\n",
    "marker_colors = [colors[row['type_of_place']] for _, row in df.iterrows()]\n",
    "\n",
    "# create a trace for the map\n",
    "trace = go.Scattermapbox(\n",
    "    lat=places_lat,\n",
    "    lon=places_lon,\n",
    "    mode='markers',\n",
    "    marker=dict(size=11, color=marker_colors),\n",
    "    text=df['name']\n",
    ")\n",
    "\n",
    "# create the layout for the map\n",
    "layout = go.Layout(\n",
    "    autosize=True,\n",
    "    hovermode='closest',\n",
    "    mapbox=dict(\n",
    "        accesstoken='access_token',\n",
    "        bearing=0,\n",
    "        center=dict(lat=prague_lat, lon=prague_lon),\n",
    "        pitch=0,\n",
    "        zoom=11\n",
    "    ),\n",
    "    margin=dict(l=0, r=0, t=0, b=0),\n",
    "    showlegend=False\n",
    ")\n",
    "\n",
    "# combine the trace and layout into a figure\n",
    "fig = go.Figure(data=[trace], layout=layout)\n",
    "\n",
    "# set width and height parameters\n",
    "fig.update_layout(\n",
    "    width=1200,\n",
    "    height=600\n",
    ")\n",
    "\n",
    "# display the figure\n",
    "fig.show()\n"
   ]
  },
  {
   "cell_type": "code",
   "execution_count": 27,
   "metadata": {},
   "outputs": [],
   "source": [
    "df = df[df['latitude'] >= 49.96]"
   ]
  },
  {
   "cell_type": "code",
   "execution_count": 28,
   "metadata": {},
   "outputs": [
    {
     "name": "stderr",
     "output_type": "stream",
     "text": [
      "C:\\Users\\rastr\\AppData\\Local\\Temp\\ipykernel_13836\\1379821321.py:1: SettingWithCopyWarning:\n",
      "\n",
      "\n",
      "A value is trying to be set on a copy of a slice from a DataFrame\n",
      "\n",
      "See the caveats in the documentation: https://pandas.pydata.org/pandas-docs/stable/user_guide/indexing.html#returning-a-view-versus-a-copy\n",
      "\n"
     ]
    }
   ],
   "source": [
    "df.dropna(inplace=True)"
   ]
  },
  {
   "cell_type": "code",
   "execution_count": 29,
   "metadata": {},
   "outputs": [
    {
     "data": {
      "text/html": [
       "<div>\n",
       "<style scoped>\n",
       "    .dataframe tbody tr th:only-of-type {\n",
       "        vertical-align: middle;\n",
       "    }\n",
       "\n",
       "    .dataframe tbody tr th {\n",
       "        vertical-align: top;\n",
       "    }\n",
       "\n",
       "    .dataframe thead th {\n",
       "        text-align: right;\n",
       "    }\n",
       "</style>\n",
       "<table border=\"1\" class=\"dataframe\">\n",
       "  <thead>\n",
       "    <tr style=\"text-align: right;\">\n",
       "      <th></th>\n",
       "      <th>name</th>\n",
       "      <th>area</th>\n",
       "      <th>address</th>\n",
       "      <th>type_of_place</th>\n",
       "      <th>latitude</th>\n",
       "      <th>longtitude</th>\n",
       "    </tr>\n",
       "  </thead>\n",
       "  <tbody>\n",
       "    <tr>\n",
       "      <th>0</th>\n",
       "      <td>Divadlo DISK</td>\n",
       "      <td>Staré Město</td>\n",
       "      <td>Karlova 223/26</td>\n",
       "      <td>Theater</td>\n",
       "      <td>50.085939</td>\n",
       "      <td>14.417291</td>\n",
       "    </tr>\n",
       "    <tr>\n",
       "      <th>1</th>\n",
       "      <td>Divadlo U22</td>\n",
       "      <td>Uhříněves</td>\n",
       "      <td>K sokolovně 201/8</td>\n",
       "      <td>Theater</td>\n",
       "      <td>50.028791</td>\n",
       "      <td>14.605892</td>\n",
       "    </tr>\n",
       "    <tr>\n",
       "      <th>2</th>\n",
       "      <td>Divadlo Na Cikorce</td>\n",
       "      <td>Modřany</td>\n",
       "      <td>Herrmannova 2016/24</td>\n",
       "      <td>Theater</td>\n",
       "      <td>50.011845</td>\n",
       "      <td>14.413708</td>\n",
       "    </tr>\n",
       "    <tr>\n",
       "      <th>3</th>\n",
       "      <td>Divadlo Ty-já-tr</td>\n",
       "      <td>Holešovice</td>\n",
       "      <td>Pplk. Sochora 1387/9</td>\n",
       "      <td>Theater</td>\n",
       "      <td>50.099678</td>\n",
       "      <td>14.435291</td>\n",
       "    </tr>\n",
       "    <tr>\n",
       "      <th>4</th>\n",
       "      <td>Divadlo Inspirace - scénický ateliér HAMU</td>\n",
       "      <td>Malá Strana</td>\n",
       "      <td>Malostranské náměstí 258/13</td>\n",
       "      <td>Theater</td>\n",
       "      <td>50.088154</td>\n",
       "      <td>14.402084</td>\n",
       "    </tr>\n",
       "    <tr>\n",
       "      <th>...</th>\n",
       "      <td>...</td>\n",
       "      <td>...</td>\n",
       "      <td>...</td>\n",
       "      <td>...</td>\n",
       "      <td>...</td>\n",
       "      <td>...</td>\n",
       "    </tr>\n",
       "    <tr>\n",
       "      <th>446</th>\n",
       "      <td>Městská knihovna v Praze - pobočka Korunní</td>\n",
       "      <td>Vinohrady</td>\n",
       "      <td>Korunní 2160/68</td>\n",
       "      <td>Library</td>\n",
       "      <td>50.075200</td>\n",
       "      <td>14.450032</td>\n",
       "    </tr>\n",
       "    <tr>\n",
       "      <th>447</th>\n",
       "      <td>Městská knihovna v Praze - pobočka Krč</td>\n",
       "      <td>Krč</td>\n",
       "      <td>Štúrova 1282/12</td>\n",
       "      <td>Library</td>\n",
       "      <td>50.023383</td>\n",
       "      <td>14.451669</td>\n",
       "    </tr>\n",
       "    <tr>\n",
       "      <th>448</th>\n",
       "      <td>Městská knihovna v Praze - pobočka Ládví</td>\n",
       "      <td>Kobylisy</td>\n",
       "      <td>Burešova 1661/2</td>\n",
       "      <td>Library</td>\n",
       "      <td>50.127214</td>\n",
       "      <td>14.469351</td>\n",
       "    </tr>\n",
       "    <tr>\n",
       "      <th>449</th>\n",
       "      <td>Městská knihovna v Praze - pobočka Lužiny</td>\n",
       "      <td>Stodůlky</td>\n",
       "      <td>Archeologická 2256/1</td>\n",
       "      <td>Library</td>\n",
       "      <td>50.044070</td>\n",
       "      <td>14.331988</td>\n",
       "    </tr>\n",
       "    <tr>\n",
       "      <th>450</th>\n",
       "      <td>Městská knihovna v Praze - pobočka Michle</td>\n",
       "      <td>Michle</td>\n",
       "      <td>Michelská 7/1</td>\n",
       "      <td>Library</td>\n",
       "      <td>50.053857</td>\n",
       "      <td>14.453573</td>\n",
       "    </tr>\n",
       "  </tbody>\n",
       "</table>\n",
       "<p>440 rows × 6 columns</p>\n",
       "</div>"
      ],
      "text/plain": [
       "                                           name         area  \\\n",
       "0                                  Divadlo DISK  Staré Město   \n",
       "1                                   Divadlo U22    Uhříněves   \n",
       "2                            Divadlo Na Cikorce      Modřany   \n",
       "3                              Divadlo Ty-já-tr   Holešovice   \n",
       "4     Divadlo Inspirace - scénický ateliér HAMU  Malá Strana   \n",
       "..                                          ...          ...   \n",
       "446  Městská knihovna v Praze - pobočka Korunní    Vinohrady   \n",
       "447      Městská knihovna v Praze - pobočka Krč          Krč   \n",
       "448    Městská knihovna v Praze - pobočka Ládví     Kobylisy   \n",
       "449   Městská knihovna v Praze - pobočka Lužiny     Stodůlky   \n",
       "450   Městská knihovna v Praze - pobočka Michle       Michle   \n",
       "\n",
       "                         address type_of_place   latitude  longtitude  \n",
       "0                 Karlova 223/26       Theater  50.085939   14.417291  \n",
       "1              K sokolovně 201/8       Theater  50.028791   14.605892  \n",
       "2            Herrmannova 2016/24       Theater  50.011845   14.413708  \n",
       "3           Pplk. Sochora 1387/9       Theater  50.099678   14.435291  \n",
       "4    Malostranské náměstí 258/13       Theater  50.088154   14.402084  \n",
       "..                           ...           ...        ...         ...  \n",
       "446              Korunní 2160/68       Library  50.075200   14.450032  \n",
       "447              Štúrova 1282/12       Library  50.023383   14.451669  \n",
       "448              Burešova 1661/2       Library  50.127214   14.469351  \n",
       "449         Archeologická 2256/1       Library  50.044070   14.331988  \n",
       "450                Michelská 7/1       Library  50.053857   14.453573  \n",
       "\n",
       "[440 rows x 6 columns]"
      ]
     },
     "execution_count": 29,
     "metadata": {},
     "output_type": "execute_result"
    }
   ],
   "source": [
    "df"
   ]
  },
  {
   "cell_type": "code",
   "execution_count": 30,
   "metadata": {},
   "outputs": [],
   "source": [
    "def build_map(categories):\n",
    "    # Filter the DataFrame based on the selected categories\n",
    "    df_categories = df[df['type_of_place'].isin(categories)]\n",
    "\n",
    "    # Define the Prague coordinates\n",
    "    prague_lat = 50.0755\n",
    "    prague_lon = 14.4378\n",
    "\n",
    "    # Define the coordinates of the cultural places in Prague\n",
    "    places_lat = df_categories['latitude']\n",
    "    places_lon = df_categories['longtitude']\n",
    "\n",
    "    # Define the colors for each type of place\n",
    "    colors = {\n",
    "        'Gallery': 'rgb(113, 192, 147)',\n",
    "        'Library': 'rgb(160, 192, 113)',\n",
    "        'Theater': 'rgb(192, 179, 113)',\n",
    "        'Museum': 'rgb(192, 113, 113)',\n",
    "        'Club': 'rgb(113, 192, 192)',\n",
    "        'Cinema': 'rgb(113, 124, 192)',\n",
    "        'Bar': 'rgb(153, 113, 192)',\n",
    "        'Cafe': 'rgb(187, 113, 192)',\n",
    "        'Synagoga': 'rgb(192, 113, 134)',\n",
    "        'Arena': 'rgb(203, 76, 76)',\n",
    "        'Opera': 'rgb(41, 67, 10)'\n",
    "    }\n",
    "\n",
    "    # Define the colors for each marker based on the type of place\n",
    "    marker_colors = [colors[row['type_of_place']] for _, row in df_categories.iterrows()]\n",
    "\n",
    "    # Define the trace for the map\n",
    "    trace = go.Scattermapbox(\n",
    "        lat=places_lat,\n",
    "        lon=places_lon,\n",
    "        mode='markers',\n",
    "        marker=dict(size=11, color=marker_colors),\n",
    "        text=df_categories['name']\n",
    "    )\n",
    "\n",
    "    # Define the layout for the map\n",
    "    layout = go.Layout(\n",
    "        autosize=True,\n",
    "        hovermode='closest',\n",
    "        mapbox=dict(\n",
    "            accesstoken='access_token',\n",
    "            bearing=0,\n",
    "            center=dict(lat=prague_lat, lon=prague_lon),\n",
    "            pitch=0,\n",
    "            zoom=11\n",
    "        ),\n",
    "        margin=dict(l=0, r=0, t=0, b=0),\n",
    "        showlegend=False\n",
    "    )\n",
    "\n",
    "    # Combine the trace and layout into a figure\n",
    "    fig = go.Figure(data=[trace], layout=layout)\n",
    "\n",
    "    # Set the width and height of the map\n",
    "    fig.update_layout(width=1200, height=600)\n",
    "\n",
    "    # Display the figure\n",
    "    fig.show()"
   ]
  },
  {
   "cell_type": "code",
   "execution_count": 31,
   "metadata": {},
   "outputs": [
    {
     "data": {
      "application/vnd.plotly.v1+json": {
       "config": {
        "plotlyServerURL": "https://plot.ly"
       },
       "data": [
        {
         "lat": [
          50.0629591,
          50.1036711,
          50.0834591,
          50.077771,
          50.0900388,
          50.0834548,
          50.0970195,
          50.0851127,
          50.0671681,
          50.0860705,
          50.0799963,
          50.0843606,
          50.0776148,
          50.0871912,
          50.0843211,
          50.0870093,
          50.09730315,
          50.1014119,
          50.0778382,
          50.0844824,
          50.0637854,
          50.0797311,
          50.0845505,
          50.0823474,
          50.0826619,
          50.0800828,
          50.0680112,
          50.0887714,
          50.0837719,
          50.0874556,
          50.090004199999996,
          50.034635699999995,
          50.0796087,
          50.0793474,
          50.0811104,
          50.0820752,
          50.0830055,
          50.0790099,
          50.0843183,
          50.0983847,
          50.077963749999995,
          50.0910737,
          50.0815744,
          50.0824786,
          50.0869368,
          50.0907756,
          50.0858577,
          50.0907251,
          50.0904881,
          50.0922426,
          50.0870963,
          50.0866429,
          50.0880498,
          50.0788447,
          50.0820103,
          50.0848288,
          50.0863151,
          50.0662653,
          50.0875956,
          50.085013,
          50.0830619,
          50.1008926,
          50.0781859,
          50.0755185,
          50.0840369,
          50.0845405,
          50.0792761,
          50.0824897,
          50.0825926,
          50.0871088,
          50.085031,
          50.0688998,
          50.0571198,
          50.0874484,
          50.0811644,
          50.0904125,
          50.09760825,
          50.0970732,
          50.0788978,
          50.0845143,
          50.0899313,
          50.0329717,
          50.1026788,
          50.0872015,
          50.08993875,
          50.0796644,
          50.0773486,
          50.0899272,
          50.0748799,
          50.0736913,
          50.0854357,
          50.0840937,
          50.105520850000005,
          50.076731,
          50.084949,
          50.0798068,
          50.0791287,
          50.0562289,
          50.0882701,
          50.0722616,
          50.1278783,
          50.0886704,
          50.0905688,
          50.0900337,
          50.087040099999996,
          50.0846016,
          50.08449605,
          50.0884233,
          50.0839986,
          50.0871329,
          50.0835668,
          50.0869011,
          50.0865112,
          50.087183,
          50.0881763,
          50.0914341,
          50.0620851,
          50.0927528,
          50.0986418,
          50.101215,
          50.087649,
          50.0923124,
          50.094165,
          50.0911853,
          50.0855283,
          50.0729562,
          50.0990046,
          50.071763399999995,
          50.0870579,
          50.089249,
          50.0907046,
          50.0998146,
          50.1058625,
          50.0892168,
          50.0723265,
          50.0929725,
          50.0897389,
          50.0297784,
          50.0739455,
          50.0850923,
          50.1104432,
          50.1104432,
          50.0868494,
          50.0868892,
          50.0854874,
          50.0910828,
          50.0868548,
          50.0821045,
          50.0508758,
          50.0841292,
          50.0508758,
          50.0818843,
          50.0745491,
          50.1003876,
          50.0829834,
          50.0867098,
          50.0914763,
          50.0969001,
          50.0792052,
          50.0688917,
          50.0736656,
          50.0785635,
          50.032596,
          50.0688917,
          50.0879764,
          50.0841504,
          50.0788129,
          50.0850923,
          50.0844913,
          50.0815432,
          50.0678363,
          50.0846581,
          50.0297489,
          50.0788055,
          50.1011311,
          50.0983847,
          50.0990735,
          50.09730315,
          50.1040977,
          50.1159396,
          49.9757892,
          50.0918364,
          50.0650834,
          50.0815316,
          50.0918364,
          50.0789527,
          50.0809588,
          50.0729562,
          50.0731529,
          50.0860113
         ],
         "lon": [
          14.4229852,
          14.390578573359376,
          14.4202259,
          14.4164263,
          14.4343406,
          14.4215525,
          14.3430639,
          14.3574705,
          14.435572,
          14.4316478,
          14.4221842,
          14.4141624,
          14.415925,
          14.4411413,
          14.4487698,
          14.4214738,
          14.4345000991649,
          14.4192869,
          14.414931,
          14.4183191,
          14.442272,
          14.4267781,
          14.4149898,
          14.413275,
          14.4480176,
          14.4140417,
          14.4163434,
          14.4206319,
          14.4163366,
          14.4221089,
          14.396357474071507,
          14.498870875083334,
          14.4221119,
          14.4243626,
          14.4484332,
          14.4495955,
          14.4043184,
          14.4356524,
          14.4176998,
          14.4326563,
          14.450348545013753,
          14.4220726,
          14.4152035,
          14.4221329,
          14.4254679,
          14.4356282,
          14.4332139,
          14.4189162,
          14.4240313,
          14.4427432,
          14.4029207,
          14.3900859,
          14.425078725319597,
          14.4143067,
          14.4184962,
          14.4200787,
          14.4197417,
          14.4189154,
          14.4087942,
          14.4251314,
          14.4229808,
          14.417253,
          14.4162952,
          14.4141995,
          14.4176951,
          14.4197313,
          14.4219528,
          14.420311,
          14.4194187,
          14.3888007,
          14.4181595,
          14.4280982,
          14.4205887,
          14.4059057,
          14.4284082,
          14.4052804,
          14.424793727600282,
          14.4232427,
          14.4169761,
          14.4165843,
          14.4163069,
          14.4941935,
          14.4253404,
          14.4062092,
          14.415501368969956,
          14.4256118,
          14.4134089,
          14.4383143,
          14.4292857,
          14.4269308,
          14.4129942,
          14.4159695,
          14.431511758339301,
          14.3988644,
          14.4045368,
          14.431988,
          14.4272495,
          14.4648166,
          14.394677,
          14.424416,
          14.5419336,
          14.4149827,
          14.4208934,
          14.4170236,
          14.423088101732784,
          14.4268414,
          14.42741488954516,
          14.400075,
          14.4084909,
          14.4232402,
          14.3607362,
          14.4073391,
          14.4139273,
          14.3995651,
          14.4305682,
          14.4088892,
          14.4516856,
          14.3528554,
          14.4367378,
          14.4287015,
          14.4023543,
          14.4286014,
          14.3897547,
          14.4362741,
          14.4039048,
          14.414748375105257,
          14.4076759,
          14.376235090622627,
          14.429668,
          14.4224779,
          14.4258612,
          14.4443179,
          14.4357875,
          14.4020001,
          14.4422827,
          14.4434637,
          14.4463528,
          14.31238,
          14.416113,
          14.4222404,
          14.5120123,
          14.5120123,
          14.4472373,
          14.448202,
          14.4228048,
          14.4427651,
          14.4252407,
          14.4187291,
          14.4082761,
          14.3695736,
          14.4082761,
          14.360662,
          14.4147886,
          14.4310854,
          14.4194297,
          14.4209481,
          14.4274032,
          14.4090165,
          14.4305757,
          14.4244876,
          14.4040059,
          14.4346017,
          14.5982944,
          14.4244876,
          14.398623,
          14.4288988,
          14.6451068,
          14.4222404,
          14.4316467,
          14.4142369,
          14.4641209,
          14.454119,
          14.3561125,
          14.4515197,
          14.3992064,
          14.4326563,
          14.4328541,
          14.4345000991649,
          14.5745083,
          14.4186283,
          14.3961736,
          14.4447203,
          14.3017136,
          14.4177938,
          14.4447203,
          14.4250151,
          14.4264159,
          14.414748375105257,
          14.4096862,
          14.3385491
         ],
         "marker": {
          "color": [
           "rgb(113, 192, 147)",
           "rgb(113, 192, 147)",
           "rgb(113, 192, 147)",
           "rgb(113, 192, 147)",
           "rgb(113, 192, 147)",
           "rgb(113, 192, 147)",
           "rgb(113, 192, 147)",
           "rgb(113, 192, 147)",
           "rgb(113, 192, 147)",
           "rgb(113, 192, 147)",
           "rgb(113, 192, 147)",
           "rgb(113, 192, 147)",
           "rgb(113, 192, 147)",
           "rgb(113, 192, 147)",
           "rgb(113, 192, 147)",
           "rgb(113, 192, 147)",
           "rgb(113, 192, 147)",
           "rgb(113, 192, 147)",
           "rgb(113, 192, 147)",
           "rgb(113, 192, 147)",
           "rgb(113, 192, 147)",
           "rgb(113, 192, 147)",
           "rgb(113, 192, 147)",
           "rgb(113, 192, 147)",
           "rgb(113, 192, 147)",
           "rgb(113, 192, 147)",
           "rgb(113, 192, 147)",
           "rgb(113, 192, 147)",
           "rgb(113, 192, 147)",
           "rgb(113, 192, 147)",
           "rgb(113, 192, 147)",
           "rgb(113, 192, 147)",
           "rgb(113, 192, 147)",
           "rgb(113, 192, 147)",
           "rgb(113, 192, 147)",
           "rgb(113, 192, 147)",
           "rgb(113, 192, 147)",
           "rgb(113, 192, 147)",
           "rgb(113, 192, 147)",
           "rgb(113, 192, 147)",
           "rgb(113, 192, 147)",
           "rgb(113, 192, 147)",
           "rgb(113, 192, 147)",
           "rgb(113, 192, 147)",
           "rgb(113, 192, 147)",
           "rgb(113, 192, 147)",
           "rgb(113, 192, 147)",
           "rgb(113, 192, 147)",
           "rgb(113, 192, 147)",
           "rgb(113, 192, 147)",
           "rgb(113, 192, 147)",
           "rgb(113, 192, 147)",
           "rgb(113, 192, 147)",
           "rgb(113, 192, 147)",
           "rgb(113, 192, 147)",
           "rgb(113, 192, 147)",
           "rgb(113, 192, 147)",
           "rgb(113, 192, 147)",
           "rgb(113, 192, 147)",
           "rgb(113, 192, 147)",
           "rgb(113, 192, 147)",
           "rgb(192, 113, 113)",
           "rgb(113, 192, 147)",
           "rgb(113, 192, 147)",
           "rgb(113, 192, 147)",
           "rgb(113, 192, 147)",
           "rgb(113, 192, 147)",
           "rgb(113, 192, 147)",
           "rgb(192, 113, 113)",
           "rgb(192, 113, 113)",
           "rgb(192, 113, 113)",
           "rgb(192, 113, 113)",
           "rgb(192, 113, 113)",
           "rgb(192, 113, 113)",
           "rgb(192, 113, 113)",
           "rgb(192, 113, 113)",
           "rgb(192, 113, 113)",
           "rgb(192, 113, 113)",
           "rgb(192, 113, 113)",
           "rgb(192, 113, 113)",
           "rgb(192, 113, 113)",
           "rgb(113, 192, 147)",
           "rgb(113, 192, 147)",
           "rgb(113, 192, 147)",
           "rgb(113, 192, 147)",
           "rgb(113, 192, 147)",
           "rgb(113, 192, 147)",
           "rgb(192, 113, 113)",
           "rgb(192, 113, 113)",
           "rgb(192, 113, 113)",
           "rgb(192, 113, 113)",
           "rgb(192, 113, 113)",
           "rgb(192, 113, 113)",
           "rgb(192, 113, 113)",
           "rgb(192, 113, 113)",
           "rgb(192, 113, 113)",
           "rgb(113, 192, 147)",
           "rgb(192, 113, 113)",
           "rgb(113, 192, 147)",
           "rgb(192, 113, 113)",
           "rgb(192, 113, 113)",
           "rgb(113, 192, 147)",
           "rgb(113, 192, 147)",
           "rgb(192, 113, 113)",
           "rgb(192, 113, 113)",
           "rgb(192, 113, 113)",
           "rgb(192, 113, 113)",
           "rgb(192, 113, 113)",
           "rgb(192, 113, 113)",
           "rgb(192, 113, 113)",
           "rgb(192, 113, 113)",
           "rgb(192, 113, 113)",
           "rgb(192, 113, 113)",
           "rgb(192, 113, 113)",
           "rgb(192, 113, 113)",
           "rgb(192, 113, 113)",
           "rgb(113, 192, 147)",
           "rgb(113, 192, 147)",
           "rgb(113, 192, 147)",
           "rgb(113, 192, 147)",
           "rgb(113, 192, 147)",
           "rgb(192, 113, 113)",
           "rgb(192, 113, 113)",
           "rgb(192, 113, 113)",
           "rgb(192, 113, 113)",
           "rgb(113, 192, 147)",
           "rgb(113, 192, 147)",
           "rgb(113, 192, 147)",
           "rgb(113, 192, 147)",
           "rgb(113, 192, 147)",
           "rgb(113, 192, 147)",
           "rgb(113, 192, 147)",
           "rgb(113, 192, 147)",
           "rgb(113, 192, 147)",
           "rgb(113, 192, 147)",
           "rgb(113, 192, 147)",
           "rgb(113, 192, 147)",
           "rgb(113, 192, 147)",
           "rgb(113, 192, 147)",
           "rgb(113, 192, 147)",
           "rgb(113, 192, 147)",
           "rgb(113, 192, 147)",
           "rgb(113, 192, 147)",
           "rgb(113, 192, 147)",
           "rgb(113, 192, 147)",
           "rgb(113, 192, 147)",
           "rgb(113, 192, 147)",
           "rgb(113, 192, 147)",
           "rgb(113, 192, 147)",
           "rgb(113, 192, 147)",
           "rgb(113, 192, 147)",
           "rgb(113, 192, 147)",
           "rgb(113, 192, 147)",
           "rgb(113, 192, 147)",
           "rgb(113, 192, 147)",
           "rgb(192, 113, 113)",
           "rgb(113, 192, 147)",
           "rgb(113, 192, 147)",
           "rgb(192, 113, 113)",
           "rgb(192, 113, 113)",
           "rgb(192, 113, 113)",
           "rgb(113, 192, 147)",
           "rgb(192, 113, 113)",
           "rgb(192, 113, 113)",
           "rgb(192, 113, 113)",
           "rgb(192, 113, 113)",
           "rgb(192, 113, 113)",
           "rgb(113, 192, 147)",
           "rgb(113, 192, 147)",
           "rgb(113, 192, 147)",
           "rgb(113, 192, 147)",
           "rgb(113, 192, 147)",
           "rgb(113, 192, 147)",
           "rgb(113, 192, 147)",
           "rgb(113, 192, 147)",
           "rgb(113, 192, 147)",
           "rgb(113, 192, 147)",
           "rgb(113, 192, 147)",
           "rgb(113, 192, 147)",
           "rgb(113, 192, 147)",
           "rgb(113, 192, 147)",
           "rgb(113, 192, 147)",
           "rgb(113, 192, 147)",
           "rgb(113, 192, 147)",
           "rgb(113, 192, 147)",
           "rgb(113, 192, 147)",
           "rgb(113, 192, 147)",
           "rgb(113, 192, 147)",
           "rgb(113, 192, 147)",
           "rgb(113, 192, 147)"
          ],
          "size": 11
         },
         "mode": "markers",
         "text": [
          "Galerie Vyšehrad",
          "Galerie NTK",
          "AD Galerie",
          "Ars Diva Galerie",
          "Art & Event Gallery Černá labuť",
          "Artinbox Gallery",
          "Artpro gallery",
          "Entrance Gallery",
          "Etc. Galerie",
          "European Arts - galerie a aukční síň",
          "Fotograf Gallery",
          "Fox Gallery",
          "Galerie 1. patro",
          "Galerie 22",
          "Galerie 35M2",
          "Galerie Art Praha",
          "Galerie ARTWALL",
          "Galerie budoart",
          "Galerie CZECHDESIGN",
          "Galerie DO/OKA",
          "Galerie eS",
          "Galerie Ferdinanda Baumanna",
          "Galerie Fotografic",
          "Galerie Hollar",
          "Galerie Hunt Kastner",
          "Galerie Vltavín",
          "Galerie Výtoň",
          "Galerie Zdeněk Sklenář - Salvátorská",
          "Galerie Ztichlá klika",
          "Gallery of Art Prague",
          "Hradčanská Galerie Josefa Kalouska",
          "Galerie Chodovská tvrz",
          "Latin Art Gallery",
          "Leica Gallery Prague",
          "Lucie Drdova Gallery",
          "NAU gallery",
          "Nikon Photo Gallery",
          "Nová galerie",
          "Galerie Jaroslava Fragnera",
          "Galerie Jelení",
          "Galerie Josipa Plečnika",
          "Galerie Julio Cortázar",
          "Galerie Kodl",
          "Galerie kritiků",
          "Galerie Kubista",
          "Galerie KusKovu",
          "Galerie Kvalitář",
          "Galerie La Femme",
          "Galerie Lapidarium",
          "Galerie Litera",
          "Galerie Millenium",
          "Galerie MIRO",
          "Galerie Jakubská",
          "Galerie Moderna",
          "Galerie Rock Café",
          "Galerie Ostrov",
          "Galerie Pastelka",
          "Galerie Pecka",
          "Galerie Peron",
          "Galerie Petr Žaloudek",
          "Galerie Petra Brandla",
          "Galerie Scarabeus a Muzeum kávy",
          "Galerie SPZ",
          "Galerie Tančící dům",
          "Galerie U Betlémské kaple",
          "Galerie U Zlatého kohouta",
          "Galerie v Lazarské",
          "Galerie Václava Špály",
          "Muzeum LEGA",
          "Muzeum miniatur v Praze",
          "Muzeum piva (Beer museum)",
          "Muzeum Policie České Republiky",
          "Muzeum pražského vodárenství",
          "Muzeum pražských pověstí a strašidel",
          "Muzeum studené války",
          "Národní pedagogické muzeum a Knihovna J. A. Komenského",
          "Národní technické muzeum",
          "Národní zemědělské muzeum",
          "Pivovarské muzeum u Fleků",
          "Rodinné muzeum pohledů",
          "Uměleckoprůmyslové muzeum v Praze",
          "Zdeněk Hajný - Galerie cesty ke světlu",
          "Galerie AVU",
          "Galerie Pavilon",
          "Galerie rudolfinum",
          "Galerie 1",
          "Galerie Mánes",
          "Hlavní budova muzea",
          "Zdravotnické muzeum",
          "Muzeum Antonína Dvořáka",
          "Muzeum Bedřicha Smetany",
          "Náprstkovo muzeum ",
          "Lapidárium Národního muzea",
          "Národopisné muzeum Národního muzea",
          "České muzeum hudby",
          "Nová budova Národního muzea",
          "Galerie Smečky",
          "Plynárenské muzeum",
          "Galerie Josefa Sudka",
          "Hrdličkovo muzeum člověka Univerzity Karlovy",
          "Letecké muzeum Kbely",
          "Galerie UM",
          "Galerie Roberta Guttmanna",
          "Židovské muzeum v Praze - Obřadní síň",
          "Choco-Story Praha – Muzeum čokolády",
          "Magic Garnet Museum",
          "Muchovo museum",
          "MuMo - Museum Montanelli",
          "Museum Kampa",
          "Museum útrpného práva a středověkých mučicích nástrojů",
          "Muzeum a archiv populární hudby - PopMuseum",
          "Muzeum Karla Zemana",
          "Muzeum Karlova mostu",
          "Muzeum KGB",
          "Muzeum komunismu",
          "Muzeum Kouzlo starých časů",
          "Pražská galerie českého skla",
          "S galerie",
          "The Chemistry Gallery",
          "Polansky Gallery",
          "Galerie AMU",
          "Poštovní muzeum",
          "Muzeum městské hromadné dopravy v Praze",
          "Muzeum družstevnictví",
          "Muzeum U Pražského jezulátka",
          "Galerie Mimochodem",
          "Galerie Villa Pellé",
          "Galerie Altán Klamovka",
          "Jan Čejka Gallery",
          "Cermak Eisenkraft gallery",
          "Galerie NoD",
          "Trafo Gallery",
          "Galerie HŠ",
          "Galerie Zezula",
          "Galerie Gema",
          "Hauch Gallery",
          "Galerie VI PER",
          "Galerie Bubec",
          "White Pearl Gallery",
          "Pražská galerie českého skla",
          "The White Room Gallery",
          "Pragovka Gallery",
          "Korpus Gallery",
          "Galerie A.M. 180",
          "Galerie českých center",
          "8gallery",
          "Galerie 101",
          "Galerie kavárny Louvre",
          "Galerie MeetFactory",
          "Galerie Nativ",
          "Galerie Kostka",
          "Galerie Kuzebauch",
          "Artery Prague Gallery",
          "Galerie Petr Novotný",
          "Galerie Havelka",
          "Illusion Art Museum",
          "Knupp Gallery",
          "Galerie Josefa Adamce",
          "Historická budova Národního muzea",
          "Mineralogické muzeum",
          "Portheimka - Muzeum skla",
          "Galerie Vinohradská 12",
          "Uhříněveské muzeum",
          "Chlupáčovo muzeum historie Země",
          "Muzeum alchymistů a mágů staré Prahy",
          "Muzeum smyslů (Museum of Senses)",
          "Muzeum Újezd nad Lesy",
          "Galerie České spořitelny",
          "Galerie Emilie Paličkové",
          "Galerie věda a umění",
          "Galerie v 5. patře",
          "Galerie pod radnicí",
          "Galerie v kapli",
          "Galerie Toyen",
          "Galerie Skleňák",
          "Galerie Kurzor",
          "Galerie na Miladě",
          "Galerie na úřadě",
          "Galerie 14",
          "Galerie U zřícené lávky",
          "Galerie Zbraslav",
          "Galerie Navrátil",
          "Galerie KC Průhon",
          "Galerie Zdeněk Sklenář - Schönkirchovský palác",
          "Galerie Navrátil",
          "Galerie 35",
          "Galerie Lucerna - Prostor pro současné umění",
          "Galerie NIKA - malá galerie Umprum",
          "Galerie Jiřího Švestky",
          "Galerie Makráč"
         ],
         "type": "scattermapbox"
        }
       ],
       "layout": {
        "autosize": true,
        "height": 600,
        "hovermode": "closest",
        "mapbox": {
         "accesstoken": "pk.eyJ1IjoicmFzdHIiLCJhIjoiY2w5eWxvbXFqMDFjdjN3bzB5b2doMGhpMCJ9.NoK8XFc0qmbgBwafVzRlBw",
         "bearing": 0,
         "center": {
          "lat": 50.0755,
          "lon": 14.4378
         },
         "pitch": 0,
         "zoom": 11
        },
        "margin": {
         "b": 0,
         "l": 0,
         "r": 0,
         "t": 0
        },
        "showlegend": false,
        "template": {
         "data": {
          "bar": [
           {
            "error_x": {
             "color": "#2a3f5f"
            },
            "error_y": {
             "color": "#2a3f5f"
            },
            "marker": {
             "line": {
              "color": "#E5ECF6",
              "width": 0.5
             },
             "pattern": {
              "fillmode": "overlay",
              "size": 10,
              "solidity": 0.2
             }
            },
            "type": "bar"
           }
          ],
          "barpolar": [
           {
            "marker": {
             "line": {
              "color": "#E5ECF6",
              "width": 0.5
             },
             "pattern": {
              "fillmode": "overlay",
              "size": 10,
              "solidity": 0.2
             }
            },
            "type": "barpolar"
           }
          ],
          "carpet": [
           {
            "aaxis": {
             "endlinecolor": "#2a3f5f",
             "gridcolor": "white",
             "linecolor": "white",
             "minorgridcolor": "white",
             "startlinecolor": "#2a3f5f"
            },
            "baxis": {
             "endlinecolor": "#2a3f5f",
             "gridcolor": "white",
             "linecolor": "white",
             "minorgridcolor": "white",
             "startlinecolor": "#2a3f5f"
            },
            "type": "carpet"
           }
          ],
          "choropleth": [
           {
            "colorbar": {
             "outlinewidth": 0,
             "ticks": ""
            },
            "type": "choropleth"
           }
          ],
          "contour": [
           {
            "colorbar": {
             "outlinewidth": 0,
             "ticks": ""
            },
            "colorscale": [
             [
              0,
              "#0d0887"
             ],
             [
              0.1111111111111111,
              "#46039f"
             ],
             [
              0.2222222222222222,
              "#7201a8"
             ],
             [
              0.3333333333333333,
              "#9c179e"
             ],
             [
              0.4444444444444444,
              "#bd3786"
             ],
             [
              0.5555555555555556,
              "#d8576b"
             ],
             [
              0.6666666666666666,
              "#ed7953"
             ],
             [
              0.7777777777777778,
              "#fb9f3a"
             ],
             [
              0.8888888888888888,
              "#fdca26"
             ],
             [
              1,
              "#f0f921"
             ]
            ],
            "type": "contour"
           }
          ],
          "contourcarpet": [
           {
            "colorbar": {
             "outlinewidth": 0,
             "ticks": ""
            },
            "type": "contourcarpet"
           }
          ],
          "heatmap": [
           {
            "colorbar": {
             "outlinewidth": 0,
             "ticks": ""
            },
            "colorscale": [
             [
              0,
              "#0d0887"
             ],
             [
              0.1111111111111111,
              "#46039f"
             ],
             [
              0.2222222222222222,
              "#7201a8"
             ],
             [
              0.3333333333333333,
              "#9c179e"
             ],
             [
              0.4444444444444444,
              "#bd3786"
             ],
             [
              0.5555555555555556,
              "#d8576b"
             ],
             [
              0.6666666666666666,
              "#ed7953"
             ],
             [
              0.7777777777777778,
              "#fb9f3a"
             ],
             [
              0.8888888888888888,
              "#fdca26"
             ],
             [
              1,
              "#f0f921"
             ]
            ],
            "type": "heatmap"
           }
          ],
          "heatmapgl": [
           {
            "colorbar": {
             "outlinewidth": 0,
             "ticks": ""
            },
            "colorscale": [
             [
              0,
              "#0d0887"
             ],
             [
              0.1111111111111111,
              "#46039f"
             ],
             [
              0.2222222222222222,
              "#7201a8"
             ],
             [
              0.3333333333333333,
              "#9c179e"
             ],
             [
              0.4444444444444444,
              "#bd3786"
             ],
             [
              0.5555555555555556,
              "#d8576b"
             ],
             [
              0.6666666666666666,
              "#ed7953"
             ],
             [
              0.7777777777777778,
              "#fb9f3a"
             ],
             [
              0.8888888888888888,
              "#fdca26"
             ],
             [
              1,
              "#f0f921"
             ]
            ],
            "type": "heatmapgl"
           }
          ],
          "histogram": [
           {
            "marker": {
             "pattern": {
              "fillmode": "overlay",
              "size": 10,
              "solidity": 0.2
             }
            },
            "type": "histogram"
           }
          ],
          "histogram2d": [
           {
            "colorbar": {
             "outlinewidth": 0,
             "ticks": ""
            },
            "colorscale": [
             [
              0,
              "#0d0887"
             ],
             [
              0.1111111111111111,
              "#46039f"
             ],
             [
              0.2222222222222222,
              "#7201a8"
             ],
             [
              0.3333333333333333,
              "#9c179e"
             ],
             [
              0.4444444444444444,
              "#bd3786"
             ],
             [
              0.5555555555555556,
              "#d8576b"
             ],
             [
              0.6666666666666666,
              "#ed7953"
             ],
             [
              0.7777777777777778,
              "#fb9f3a"
             ],
             [
              0.8888888888888888,
              "#fdca26"
             ],
             [
              1,
              "#f0f921"
             ]
            ],
            "type": "histogram2d"
           }
          ],
          "histogram2dcontour": [
           {
            "colorbar": {
             "outlinewidth": 0,
             "ticks": ""
            },
            "colorscale": [
             [
              0,
              "#0d0887"
             ],
             [
              0.1111111111111111,
              "#46039f"
             ],
             [
              0.2222222222222222,
              "#7201a8"
             ],
             [
              0.3333333333333333,
              "#9c179e"
             ],
             [
              0.4444444444444444,
              "#bd3786"
             ],
             [
              0.5555555555555556,
              "#d8576b"
             ],
             [
              0.6666666666666666,
              "#ed7953"
             ],
             [
              0.7777777777777778,
              "#fb9f3a"
             ],
             [
              0.8888888888888888,
              "#fdca26"
             ],
             [
              1,
              "#f0f921"
             ]
            ],
            "type": "histogram2dcontour"
           }
          ],
          "mesh3d": [
           {
            "colorbar": {
             "outlinewidth": 0,
             "ticks": ""
            },
            "type": "mesh3d"
           }
          ],
          "parcoords": [
           {
            "line": {
             "colorbar": {
              "outlinewidth": 0,
              "ticks": ""
             }
            },
            "type": "parcoords"
           }
          ],
          "pie": [
           {
            "automargin": true,
            "type": "pie"
           }
          ],
          "scatter": [
           {
            "fillpattern": {
             "fillmode": "overlay",
             "size": 10,
             "solidity": 0.2
            },
            "type": "scatter"
           }
          ],
          "scatter3d": [
           {
            "line": {
             "colorbar": {
              "outlinewidth": 0,
              "ticks": ""
             }
            },
            "marker": {
             "colorbar": {
              "outlinewidth": 0,
              "ticks": ""
             }
            },
            "type": "scatter3d"
           }
          ],
          "scattercarpet": [
           {
            "marker": {
             "colorbar": {
              "outlinewidth": 0,
              "ticks": ""
             }
            },
            "type": "scattercarpet"
           }
          ],
          "scattergeo": [
           {
            "marker": {
             "colorbar": {
              "outlinewidth": 0,
              "ticks": ""
             }
            },
            "type": "scattergeo"
           }
          ],
          "scattergl": [
           {
            "marker": {
             "colorbar": {
              "outlinewidth": 0,
              "ticks": ""
             }
            },
            "type": "scattergl"
           }
          ],
          "scattermapbox": [
           {
            "marker": {
             "colorbar": {
              "outlinewidth": 0,
              "ticks": ""
             }
            },
            "type": "scattermapbox"
           }
          ],
          "scatterpolar": [
           {
            "marker": {
             "colorbar": {
              "outlinewidth": 0,
              "ticks": ""
             }
            },
            "type": "scatterpolar"
           }
          ],
          "scatterpolargl": [
           {
            "marker": {
             "colorbar": {
              "outlinewidth": 0,
              "ticks": ""
             }
            },
            "type": "scatterpolargl"
           }
          ],
          "scatterternary": [
           {
            "marker": {
             "colorbar": {
              "outlinewidth": 0,
              "ticks": ""
             }
            },
            "type": "scatterternary"
           }
          ],
          "surface": [
           {
            "colorbar": {
             "outlinewidth": 0,
             "ticks": ""
            },
            "colorscale": [
             [
              0,
              "#0d0887"
             ],
             [
              0.1111111111111111,
              "#46039f"
             ],
             [
              0.2222222222222222,
              "#7201a8"
             ],
             [
              0.3333333333333333,
              "#9c179e"
             ],
             [
              0.4444444444444444,
              "#bd3786"
             ],
             [
              0.5555555555555556,
              "#d8576b"
             ],
             [
              0.6666666666666666,
              "#ed7953"
             ],
             [
              0.7777777777777778,
              "#fb9f3a"
             ],
             [
              0.8888888888888888,
              "#fdca26"
             ],
             [
              1,
              "#f0f921"
             ]
            ],
            "type": "surface"
           }
          ],
          "table": [
           {
            "cells": {
             "fill": {
              "color": "#EBF0F8"
             },
             "line": {
              "color": "white"
             }
            },
            "header": {
             "fill": {
              "color": "#C8D4E3"
             },
             "line": {
              "color": "white"
             }
            },
            "type": "table"
           }
          ]
         },
         "layout": {
          "annotationdefaults": {
           "arrowcolor": "#2a3f5f",
           "arrowhead": 0,
           "arrowwidth": 1
          },
          "autotypenumbers": "strict",
          "coloraxis": {
           "colorbar": {
            "outlinewidth": 0,
            "ticks": ""
           }
          },
          "colorscale": {
           "diverging": [
            [
             0,
             "#8e0152"
            ],
            [
             0.1,
             "#c51b7d"
            ],
            [
             0.2,
             "#de77ae"
            ],
            [
             0.3,
             "#f1b6da"
            ],
            [
             0.4,
             "#fde0ef"
            ],
            [
             0.5,
             "#f7f7f7"
            ],
            [
             0.6,
             "#e6f5d0"
            ],
            [
             0.7,
             "#b8e186"
            ],
            [
             0.8,
             "#7fbc41"
            ],
            [
             0.9,
             "#4d9221"
            ],
            [
             1,
             "#276419"
            ]
           ],
           "sequential": [
            [
             0,
             "#0d0887"
            ],
            [
             0.1111111111111111,
             "#46039f"
            ],
            [
             0.2222222222222222,
             "#7201a8"
            ],
            [
             0.3333333333333333,
             "#9c179e"
            ],
            [
             0.4444444444444444,
             "#bd3786"
            ],
            [
             0.5555555555555556,
             "#d8576b"
            ],
            [
             0.6666666666666666,
             "#ed7953"
            ],
            [
             0.7777777777777778,
             "#fb9f3a"
            ],
            [
             0.8888888888888888,
             "#fdca26"
            ],
            [
             1,
             "#f0f921"
            ]
           ],
           "sequentialminus": [
            [
             0,
             "#0d0887"
            ],
            [
             0.1111111111111111,
             "#46039f"
            ],
            [
             0.2222222222222222,
             "#7201a8"
            ],
            [
             0.3333333333333333,
             "#9c179e"
            ],
            [
             0.4444444444444444,
             "#bd3786"
            ],
            [
             0.5555555555555556,
             "#d8576b"
            ],
            [
             0.6666666666666666,
             "#ed7953"
            ],
            [
             0.7777777777777778,
             "#fb9f3a"
            ],
            [
             0.8888888888888888,
             "#fdca26"
            ],
            [
             1,
             "#f0f921"
            ]
           ]
          },
          "colorway": [
           "#636efa",
           "#EF553B",
           "#00cc96",
           "#ab63fa",
           "#FFA15A",
           "#19d3f3",
           "#FF6692",
           "#B6E880",
           "#FF97FF",
           "#FECB52"
          ],
          "font": {
           "color": "#2a3f5f"
          },
          "geo": {
           "bgcolor": "white",
           "lakecolor": "white",
           "landcolor": "#E5ECF6",
           "showlakes": true,
           "showland": true,
           "subunitcolor": "white"
          },
          "hoverlabel": {
           "align": "left"
          },
          "hovermode": "closest",
          "mapbox": {
           "style": "light"
          },
          "paper_bgcolor": "white",
          "plot_bgcolor": "#E5ECF6",
          "polar": {
           "angularaxis": {
            "gridcolor": "white",
            "linecolor": "white",
            "ticks": ""
           },
           "bgcolor": "#E5ECF6",
           "radialaxis": {
            "gridcolor": "white",
            "linecolor": "white",
            "ticks": ""
           }
          },
          "scene": {
           "xaxis": {
            "backgroundcolor": "#E5ECF6",
            "gridcolor": "white",
            "gridwidth": 2,
            "linecolor": "white",
            "showbackground": true,
            "ticks": "",
            "zerolinecolor": "white"
           },
           "yaxis": {
            "backgroundcolor": "#E5ECF6",
            "gridcolor": "white",
            "gridwidth": 2,
            "linecolor": "white",
            "showbackground": true,
            "ticks": "",
            "zerolinecolor": "white"
           },
           "zaxis": {
            "backgroundcolor": "#E5ECF6",
            "gridcolor": "white",
            "gridwidth": 2,
            "linecolor": "white",
            "showbackground": true,
            "ticks": "",
            "zerolinecolor": "white"
           }
          },
          "shapedefaults": {
           "line": {
            "color": "#2a3f5f"
           }
          },
          "ternary": {
           "aaxis": {
            "gridcolor": "white",
            "linecolor": "white",
            "ticks": ""
           },
           "baxis": {
            "gridcolor": "white",
            "linecolor": "white",
            "ticks": ""
           },
           "bgcolor": "#E5ECF6",
           "caxis": {
            "gridcolor": "white",
            "linecolor": "white",
            "ticks": ""
           }
          },
          "title": {
           "x": 0.05
          },
          "xaxis": {
           "automargin": true,
           "gridcolor": "white",
           "linecolor": "white",
           "ticks": "",
           "title": {
            "standoff": 15
           },
           "zerolinecolor": "white",
           "zerolinewidth": 2
          },
          "yaxis": {
           "automargin": true,
           "gridcolor": "white",
           "linecolor": "white",
           "ticks": "",
           "title": {
            "standoff": 15
           },
           "zerolinecolor": "white",
           "zerolinewidth": 2
          }
         }
        },
        "width": 1200
       }
      }
     },
     "metadata": {},
     "output_type": "display_data"
    }
   ],
   "source": [
    "# map with museums and galleries\n",
    "build_map(['Museum', 'Gallery'])"
   ]
  },
  {
   "cell_type": "code",
   "execution_count": 32,
   "metadata": {},
   "outputs": [],
   "source": [
    "def get_top_areas(type_of_place):\n",
    "    # add to new DataFrame all places with passed type\n",
    "    df_count_by_area = df[df['type_of_place'] == type_of_place]\n",
    "\n",
    "    # compute how many places are in each area of Prague\n",
    "    df_count_by_area = df_count_by_area.groupby('area').size().reset_index(name=f'{type_of_place}')\n",
    "    \n",
    "    # sort values\n",
    "    df_count_by_area = df_count_by_area.sort_values(by=f'{type_of_place}', ascending=False)\n",
    "    print(df_count_by_area)"
   ]
  },
  {
   "cell_type": "code",
   "execution_count": 33,
   "metadata": {},
   "outputs": [
    {
     "name": "stdout",
     "output_type": "stream",
     "text": [
      "           area  Gallery\n",
      "10   Nové Město       35\n",
      "13  Staré Město       31\n",
      "4    Holešovice       11\n",
      "25       Žižkov        8\n",
      "8        Karlín        6\n",
      "9   Malá Strana        6\n",
      "16    Vinohrady        6\n",
      "0       Bubeneč        4\n",
      "12      Smíchov        4\n",
      "1       Břevnov        4\n",
      "6      Hradčany        3\n",
      "20     Vyšehrad        2\n",
      "7       Josefov        2\n",
      "2        Chodov        2\n",
      "11        Nusle        2\n",
      "19     Vysočany        2\n",
      "24         Řepy        1\n",
      "23     Řeporyje        1\n",
      "22   Černý Most        1\n",
      "21     Zbraslav        1\n",
      "3       Dejvice        1\n",
      "18     Vršovice        1\n",
      "17     Vokovice        1\n",
      "5        Holyně        1\n",
      "14        Troja        1\n",
      "15   Veleslavín        1\n"
     ]
    }
   ],
   "source": [
    "get_top_areas('Gallery')"
   ]
  },
  {
   "cell_type": "code",
   "execution_count": 34,
   "metadata": {},
   "outputs": [
    {
     "name": "stdout",
     "output_type": "stream",
     "text": [
      "               area  Library\n",
      "33       Nové Město        3\n",
      "13         Hostivař        3\n",
      "51        Vinohrady        3\n",
      "4            Chodov        3\n",
      "31          Modřany        3\n",
      "..              ...      ...\n",
      "35        Petrovice        1\n",
      "36           Prosek        1\n",
      "37  Přední Kopanina        1\n",
      "38          Radotín        1\n",
      "0            Benice        1\n",
      "\n",
      "[67 rows x 2 columns]\n"
     ]
    }
   ],
   "source": [
    "pd.set_option('display.max_rows', 20)\n",
    "pd.set_option('display.max_columns', 20)\n",
    "get_top_areas('Library')"
   ]
  }
 ],
 "metadata": {
  "kernelspec": {
   "display_name": "Python 3",
   "language": "python",
   "name": "python3"
  },
  "language_info": {
   "codemirror_mode": {
    "name": "ipython",
    "version": 3
   },
   "file_extension": ".py",
   "mimetype": "text/x-python",
   "name": "python",
   "nbconvert_exporter": "python",
   "pygments_lexer": "ipython3",
   "version": "3.9.10"
  },
  "orig_nbformat": 4,
  "vscode": {
   "interpreter": {
    "hash": "a1179395941cc24b75b23351c4797bd59692ef7d81b593586eea564b0dd2bbf5"
   }
  }
 },
 "nbformat": 4,
 "nbformat_minor": 2
}
